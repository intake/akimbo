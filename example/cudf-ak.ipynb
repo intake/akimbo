{
 "cells": [
  {
   "cell_type": "code",
   "execution_count": 1,
   "id": "cefd8e53-a56f-4b0c-88d2-d662d59849a7",
   "metadata": {},
   "outputs": [
    {
     "data": {
      "text/plain": [
       "('2.6.3', '2023.8.1.dev25+g5dd12c5.d20240417')"
      ]
     },
     "execution_count": 1,
     "metadata": {},
     "output_type": "execute_result"
    }
   ],
   "source": [
    "import awkward as ak\n",
    "ak.numba.register_and_check()\n",
    "import cupy as cp\n",
    "import cudf\n",
    "import numpy as np\n",
    "import awkward_pandas.cudf\n",
    "import subprocess\n",
    "\n",
    "def gpu_mem():\n",
    "    print(subprocess.check_output(\"nvidia-smi | grep py\", shell=True).split()[-2].decode())\n",
    "\n",
    "ak.__version__, awkward_pandas.__version__"
   ]
  },
  {
   "cell_type": "code",
   "execution_count": 5,
   "id": "0490043a-564a-4c11-bb0d-a54fb4c6fb10",
   "metadata": {},
   "outputs": [
    {
     "name": "stdout",
     "output_type": "stream",
     "text": [
      "188MiB\n"
     ]
    }
   ],
   "source": [
    "df = cudf.read_parquet(\"/floppy/code/awkward/s.parquet\")\n",
    "gpu_mem()"
   ]
  },
  {
   "cell_type": "code",
   "execution_count": 7,
   "id": "e29ff9a4-60e4-4260-9a44-c135ad6d7d6b",
   "metadata": {},
   "outputs": [
    {
     "data": {
      "text/plain": [
       "a    list\n",
       "dtype: object"
      ]
     },
     "execution_count": 7,
     "metadata": {},
     "output_type": "execute_result"
    }
   ],
   "source": [
    "df.dtypes"
   ]
  },
  {
   "cell_type": "code",
   "execution_count": 8,
   "id": "58d16a80-041e-4260-8c56-9de932dde557",
   "metadata": {},
   "outputs": [
    {
     "data": {
      "text/plain": [
       "a    [[1, 2, 3], [], [4, 5]]\n",
       "Name: 0, dtype: list"
      ]
     },
     "execution_count": 8,
     "metadata": {},
     "output_type": "execute_result"
    }
   ],
   "source": [
    "df.iloc[0]  # each element is list-of-lists"
   ]
  },
  {
   "cell_type": "code",
   "execution_count": 9,
   "id": "abfe0ab6-5a89-4885-b654-c84804a4aea4",
   "metadata": {},
   "outputs": [
    {
     "data": {
      "text/plain": [
       "<awkward_pandas.cudf.AwkwardAccessor at 0x7f737b26aa70>"
      ]
     },
     "execution_count": 9,
     "metadata": {},
     "output_type": "execute_result"
    }
   ],
   "source": [
    "# series accessor\n",
    "df.a.ak"
   ]
  },
  {
   "cell_type": "code",
   "execution_count": 10,
   "id": "c7b65320-e1fa-44b2-a232-6ffb97ba1d18",
   "metadata": {
    "scrolled": true
   },
   "outputs": [
    {
     "data": {
      "text/plain": [
       "['all',\n",
       " 'almost_equal',\n",
       " 'angle',\n",
       " 'annotations',\n",
       " 'any',\n",
       " 'apply',\n",
       " 'argcartesian',\n",
       " 'argcombinations',\n",
       " 'argmax',\n",
       " 'argmin',\n",
       " 'argsort',\n",
       " 'array',\n",
       " 'awkward',\n",
       " 'backend',\n",
       " 'behavior',\n",
       " 'behaviors',\n",
       " 'broadcast_arrays',\n",
       " 'broadcast_fields',\n",
       " 'builder',\n",
       " 'cartesian',\n",
       " 'categories',\n",
       " 'combinations',\n",
       " 'concatenate',\n",
       " 'contents',\n",
       " 'copy',\n",
       " 'corr',\n",
       " 'count',\n",
       " 'count_nonzero',\n",
       " 'covar',\n",
       " 'cppyy',\n",
       " 'drop_none',\n",
       " 'enforce_type',\n",
       " 'errors',\n",
       " 'fields',\n",
       " 'fill_none',\n",
       " 'firsts',\n",
       " 'flatten',\n",
       " 'forms',\n",
       " 'forth',\n",
       " 'from_arrow',\n",
       " 'from_arrow_schema',\n",
       " 'from_avro_file',\n",
       " 'from_buffers',\n",
       " 'from_categorical',\n",
       " 'from_cupy',\n",
       " 'from_dlpack',\n",
       " 'from_feather',\n",
       " 'from_iter',\n",
       " 'from_jax',\n",
       " 'from_json',\n",
       " 'from_numpy',\n",
       " 'from_parquet',\n",
       " 'from_rdataframe',\n",
       " 'from_regular',\n",
       " 'full_like',\n",
       " 'highlevel',\n",
       " 'imag',\n",
       " 'index',\n",
       " 'is_categorical',\n",
       " 'is_none',\n",
       " 'is_tuple',\n",
       " 'is_valid',\n",
       " 'isclose',\n",
       " 'jax',\n",
       " 'linear_fit',\n",
       " 'local_index',\n",
       " 'mask',\n",
       " 'max',\n",
       " 'mean',\n",
       " 'merge_option_of_records',\n",
       " 'merge_union_of_records',\n",
       " 'metadata_from_parquet',\n",
       " 'min',\n",
       " 'mixin_class',\n",
       " 'mixin_class_method',\n",
       " 'moment',\n",
       " 'nan_to_none',\n",
       " 'nan_to_num',\n",
       " 'nanargmax',\n",
       " 'nanargmin',\n",
       " 'nanmax',\n",
       " 'nanmean',\n",
       " 'nanmin',\n",
       " 'nanprod',\n",
       " 'nanstd',\n",
       " 'nansum',\n",
       " 'nanvar',\n",
       " 'num',\n",
       " 'numba',\n",
       " 'ones_like',\n",
       " 'operations',\n",
       " 'pad_none',\n",
       " 'parameters',\n",
       " 'prod',\n",
       " 'ptp',\n",
       " 'ravel',\n",
       " 'real',\n",
       " 'record',\n",
       " 'round',\n",
       " 'run_lengths',\n",
       " 'singletons',\n",
       " 'softmax',\n",
       " 'sort',\n",
       " 'std',\n",
       " 'str',\n",
       " 'strings_astype',\n",
       " 'sum',\n",
       " 'to_arrow',\n",
       " 'to_arrow_table',\n",
       " 'to_backend',\n",
       " 'to_buffers',\n",
       " 'to_cudf',\n",
       " 'to_cupy',\n",
       " 'to_dataframe',\n",
       " 'to_feather',\n",
       " 'to_jax',\n",
       " 'to_json',\n",
       " 'to_layout',\n",
       " 'to_list',\n",
       " 'to_numpy',\n",
       " 'to_packed',\n",
       " 'to_parquet',\n",
       " 'to_parquet_dataset',\n",
       " 'to_parquet_row_groups',\n",
       " 'to_rdataframe',\n",
       " 'to_regular',\n",
       " 'transform',\n",
       " 'type',\n",
       " 'types',\n",
       " 'typetracer',\n",
       " 'unflatten',\n",
       " 'unzip',\n",
       " 'validity_error',\n",
       " 'values_astype',\n",
       " 'var',\n",
       " 'where',\n",
       " 'with_field',\n",
       " 'with_name',\n",
       " 'with_parameter',\n",
       " 'without_field',\n",
       " 'without_parameters',\n",
       " 'zeros_like',\n",
       " 'zip']"
      ]
     },
     "execution_count": 10,
     "metadata": {},
     "output_type": "execute_result"
    }
   ],
   "source": [
    "# allows all ak.* namespace, many identical to numpy equivalents\n",
    "dir(df.a.ak)"
   ]
  },
  {
   "cell_type": "code",
   "execution_count": 11,
   "id": "8ff11e13-8503-4d79-a64c-993028709ca4",
   "metadata": {},
   "outputs": [
    {
     "data": {
      "text/plain": [
       "array(28000000)"
      ]
     },
     "execution_count": 11,
     "metadata": {},
     "output_type": "execute_result"
    }
   ],
   "source": [
    "df.a.ak.sum(axis=None)"
   ]
  },
  {
   "cell_type": "code",
   "execution_count": 27,
   "id": "e2714a2e-6d78-4a99-88d0-e76851938d7c",
   "metadata": {},
   "outputs": [
    {
     "ename": "AssertionError",
     "evalue": "CuPyKernel not found: ('awkward_ListOffsetArray_reduce_nonlocal_preparenext_64', <class 'numpy.int64'>, <class 'numpy.int64'>, <class 'numpy.int64'>, <class 'numpy.int64'>, <class 'numpy.int64'>, <class 'numpy.int64'>, <class 'numpy.int64'>)\n\nSee if this has been reported at https://github.com/scikit-hep/awkward/issues",
     "output_type": "error",
     "traceback": [
      "\u001b[0;31m---------------------------------------------------------------------------\u001b[0m",
      "\u001b[0;31mAssertionError\u001b[0m                            Traceback (most recent call last)",
      "File \u001b[0;32m/floppy/code/awkward/src/awkward/_dispatch.py:64\u001b[0m, in \u001b[0;36mnamed_high_level_function.<locals>.dispatch\u001b[0;34m(*args, **kwargs)\u001b[0m\n\u001b[1;32m     63\u001b[0m \u001b[38;5;28;01mtry\u001b[39;00m:\n\u001b[0;32m---> 64\u001b[0m     \u001b[38;5;28;43mnext\u001b[39;49m\u001b[43m(\u001b[49m\u001b[43mgen_or_result\u001b[49m\u001b[43m)\u001b[49m\n\u001b[1;32m     65\u001b[0m \u001b[38;5;28;01mexcept\u001b[39;00m \u001b[38;5;167;01mStopIteration\u001b[39;00m \u001b[38;5;28;01mas\u001b[39;00m err:\n",
      "File \u001b[0;32m/floppy/code/awkward/src/awkward/operations/ak_sum.py:210\u001b[0m, in \u001b[0;36msum\u001b[0;34m(array, axis, keepdims, mask_identity, highlevel, behavior, attrs)\u001b[0m\n\u001b[1;32m    209\u001b[0m \u001b[38;5;66;03m# Implementation\u001b[39;00m\n\u001b[0;32m--> 210\u001b[0m \u001b[38;5;28;01mreturn\u001b[39;00m \u001b[43m_impl\u001b[49m\u001b[43m(\u001b[49m\u001b[43marray\u001b[49m\u001b[43m,\u001b[49m\u001b[43m \u001b[49m\u001b[43maxis\u001b[49m\u001b[43m,\u001b[49m\u001b[43m \u001b[49m\u001b[43mkeepdims\u001b[49m\u001b[43m,\u001b[49m\u001b[43m \u001b[49m\u001b[43mmask_identity\u001b[49m\u001b[43m,\u001b[49m\u001b[43m \u001b[49m\u001b[43mhighlevel\u001b[49m\u001b[43m,\u001b[49m\u001b[43m \u001b[49m\u001b[43mbehavior\u001b[49m\u001b[43m,\u001b[49m\u001b[43m \u001b[49m\u001b[43mattrs\u001b[49m\u001b[43m)\u001b[49m\n",
      "File \u001b[0;32m/floppy/code/awkward/src/awkward/operations/ak_sum.py:277\u001b[0m, in \u001b[0;36m_impl\u001b[0;34m(array, axis, keepdims, mask_identity, highlevel, behavior, attrs)\u001b[0m\n\u001b[1;32m    275\u001b[0m reducer \u001b[38;5;241m=\u001b[39m ak\u001b[38;5;241m.\u001b[39m_reducers\u001b[38;5;241m.\u001b[39mSum()\n\u001b[0;32m--> 277\u001b[0m out \u001b[38;5;241m=\u001b[39m \u001b[43mak\u001b[49m\u001b[38;5;241;43m.\u001b[39;49m\u001b[43m_do\u001b[49m\u001b[38;5;241;43m.\u001b[39;49m\u001b[43mreduce\u001b[49m\u001b[43m(\u001b[49m\n\u001b[1;32m    278\u001b[0m \u001b[43m    \u001b[49m\u001b[43mlayout\u001b[49m\u001b[43m,\u001b[49m\n\u001b[1;32m    279\u001b[0m \u001b[43m    \u001b[49m\u001b[43mreducer\u001b[49m\u001b[43m,\u001b[49m\n\u001b[1;32m    280\u001b[0m \u001b[43m    \u001b[49m\u001b[43maxis\u001b[49m\u001b[38;5;241;43m=\u001b[39;49m\u001b[43maxis\u001b[49m\u001b[43m,\u001b[49m\n\u001b[1;32m    281\u001b[0m \u001b[43m    \u001b[49m\u001b[43mmask\u001b[49m\u001b[38;5;241;43m=\u001b[39;49m\u001b[43mmask_identity\u001b[49m\u001b[43m,\u001b[49m\n\u001b[1;32m    282\u001b[0m \u001b[43m    \u001b[49m\u001b[43mkeepdims\u001b[49m\u001b[38;5;241;43m=\u001b[39;49m\u001b[43mkeepdims\u001b[49m\u001b[43m,\u001b[49m\n\u001b[1;32m    283\u001b[0m \u001b[43m    \u001b[49m\u001b[43mbehavior\u001b[49m\u001b[38;5;241;43m=\u001b[39;49m\u001b[43mctx\u001b[49m\u001b[38;5;241;43m.\u001b[39;49m\u001b[43mbehavior\u001b[49m\u001b[43m,\u001b[49m\n\u001b[1;32m    284\u001b[0m \u001b[43m\u001b[49m\u001b[43m)\u001b[49m\n\u001b[1;32m    285\u001b[0m \u001b[38;5;28;01mreturn\u001b[39;00m ctx\u001b[38;5;241m.\u001b[39mwrap(out, highlevel\u001b[38;5;241m=\u001b[39mhighlevel, allow_other\u001b[38;5;241m=\u001b[39m\u001b[38;5;28;01mTrue\u001b[39;00m)\n",
      "File \u001b[0;32m/floppy/code/awkward/src/awkward/_do.py:333\u001b[0m, in \u001b[0;36mreduce\u001b[0;34m(layout, reducer, axis, mask, keepdims, behavior)\u001b[0m\n\u001b[1;32m    332\u001b[0m shifts \u001b[38;5;241m=\u001b[39m \u001b[38;5;28;01mNone\u001b[39;00m\n\u001b[0;32m--> 333\u001b[0m \u001b[38;5;28mnext\u001b[39m \u001b[38;5;241m=\u001b[39m \u001b[43mlayout\u001b[49m\u001b[38;5;241;43m.\u001b[39;49m\u001b[43m_reduce_next\u001b[49m\u001b[43m(\u001b[49m\n\u001b[1;32m    334\u001b[0m \u001b[43m    \u001b[49m\u001b[43mreducer\u001b[49m\u001b[43m,\u001b[49m\n\u001b[1;32m    335\u001b[0m \u001b[43m    \u001b[49m\u001b[43mnegaxis\u001b[49m\u001b[43m,\u001b[49m\n\u001b[1;32m    336\u001b[0m \u001b[43m    \u001b[49m\u001b[43mstarts\u001b[49m\u001b[43m,\u001b[49m\n\u001b[1;32m    337\u001b[0m \u001b[43m    \u001b[49m\u001b[43mshifts\u001b[49m\u001b[43m,\u001b[49m\n\u001b[1;32m    338\u001b[0m \u001b[43m    \u001b[49m\u001b[43mparents\u001b[49m\u001b[43m,\u001b[49m\n\u001b[1;32m    339\u001b[0m \u001b[43m    \u001b[49m\u001b[38;5;241;43m1\u001b[39;49m\u001b[43m,\u001b[49m\n\u001b[1;32m    340\u001b[0m \u001b[43m    \u001b[49m\u001b[43mmask\u001b[49m\u001b[43m,\u001b[49m\n\u001b[1;32m    341\u001b[0m \u001b[43m    \u001b[49m\u001b[43mkeepdims\u001b[49m\u001b[43m,\u001b[49m\n\u001b[1;32m    342\u001b[0m \u001b[43m    \u001b[49m\u001b[43mbehavior\u001b[49m\u001b[43m,\u001b[49m\n\u001b[1;32m    343\u001b[0m \u001b[43m\u001b[49m\u001b[43m)\u001b[49m\n\u001b[1;32m    345\u001b[0m \u001b[38;5;28;01mreturn\u001b[39;00m \u001b[38;5;28mnext\u001b[39m[\u001b[38;5;241m0\u001b[39m]\n",
      "File \u001b[0;32m/floppy/code/awkward/src/awkward/contents/listoffsetarray.py:1476\u001b[0m, in \u001b[0;36mListOffsetArray._reduce_next\u001b[0;34m(self, reducer, negaxis, starts, shifts, parents, outlength, mask, keepdims, behavior)\u001b[0m\n\u001b[1;32m   1475\u001b[0m     \u001b[38;5;28mnext\u001b[39m \u001b[38;5;241m=\u001b[39m \u001b[38;5;28mself\u001b[39m\u001b[38;5;241m.\u001b[39mto_ListOffsetArray64(\u001b[38;5;28;01mTrue\u001b[39;00m)\n\u001b[0;32m-> 1476\u001b[0m     \u001b[38;5;28;01mreturn\u001b[39;00m \u001b[38;5;28;43mnext\u001b[39;49m\u001b[38;5;241;43m.\u001b[39;49m\u001b[43m_reduce_next\u001b[49m\u001b[43m(\u001b[49m\n\u001b[1;32m   1477\u001b[0m \u001b[43m        \u001b[49m\u001b[43mreducer\u001b[49m\u001b[43m,\u001b[49m\n\u001b[1;32m   1478\u001b[0m \u001b[43m        \u001b[49m\u001b[43mnegaxis\u001b[49m\u001b[43m,\u001b[49m\n\u001b[1;32m   1479\u001b[0m \u001b[43m        \u001b[49m\u001b[43mstarts\u001b[49m\u001b[43m,\u001b[49m\n\u001b[1;32m   1480\u001b[0m \u001b[43m        \u001b[49m\u001b[43mshifts\u001b[49m\u001b[43m,\u001b[49m\n\u001b[1;32m   1481\u001b[0m \u001b[43m        \u001b[49m\u001b[43mparents\u001b[49m\u001b[43m,\u001b[49m\n\u001b[1;32m   1482\u001b[0m \u001b[43m        \u001b[49m\u001b[43moutlength\u001b[49m\u001b[43m,\u001b[49m\n\u001b[1;32m   1483\u001b[0m \u001b[43m        \u001b[49m\u001b[43mmask\u001b[49m\u001b[43m,\u001b[49m\n\u001b[1;32m   1484\u001b[0m \u001b[43m        \u001b[49m\u001b[43mkeepdims\u001b[49m\u001b[43m,\u001b[49m\n\u001b[1;32m   1485\u001b[0m \u001b[43m        \u001b[49m\u001b[43mbehavior\u001b[49m\u001b[43m,\u001b[49m\n\u001b[1;32m   1486\u001b[0m \u001b[43m    \u001b[49m\u001b[43m)\u001b[49m\n\u001b[1;32m   1488\u001b[0m branch, depth \u001b[38;5;241m=\u001b[39m \u001b[38;5;28mself\u001b[39m\u001b[38;5;241m.\u001b[39mbranch_depth\n",
      "File \u001b[0;32m/floppy/code/awkward/src/awkward/contents/listoffsetarray.py:1615\u001b[0m, in \u001b[0;36mListOffsetArray._reduce_next\u001b[0;34m(self, reducer, negaxis, starts, shifts, parents, outlength, mask, keepdims, behavior)\u001b[0m\n\u001b[1;32m   1613\u001b[0m nextstarts \u001b[38;5;241m=\u001b[39m \u001b[38;5;28mself\u001b[39m\u001b[38;5;241m.\u001b[39moffsets[:\u001b[38;5;241m-\u001b[39m\u001b[38;5;241m1\u001b[39m]\n\u001b[0;32m-> 1615\u001b[0m outcontent \u001b[38;5;241m=\u001b[39m \u001b[43mtrimmed\u001b[49m\u001b[38;5;241;43m.\u001b[39;49m\u001b[43m_reduce_next\u001b[49m\u001b[43m(\u001b[49m\n\u001b[1;32m   1616\u001b[0m \u001b[43m    \u001b[49m\u001b[43mreducer\u001b[49m\u001b[43m,\u001b[49m\n\u001b[1;32m   1617\u001b[0m \u001b[43m    \u001b[49m\u001b[43mnegaxis\u001b[49m\u001b[43m,\u001b[49m\n\u001b[1;32m   1618\u001b[0m \u001b[43m    \u001b[49m\u001b[43mnextstarts\u001b[49m\u001b[43m,\u001b[49m\n\u001b[1;32m   1619\u001b[0m \u001b[43m    \u001b[49m\u001b[43mshifts\u001b[49m\u001b[43m,\u001b[49m\n\u001b[1;32m   1620\u001b[0m \u001b[43m    \u001b[49m\u001b[43mnextparents\u001b[49m\u001b[43m,\u001b[49m\n\u001b[1;32m   1621\u001b[0m \u001b[43m    \u001b[49m\u001b[43mglobalstarts_length\u001b[49m\u001b[43m,\u001b[49m\n\u001b[1;32m   1622\u001b[0m \u001b[43m    \u001b[49m\u001b[43mmask\u001b[49m\u001b[43m,\u001b[49m\n\u001b[1;32m   1623\u001b[0m \u001b[43m    \u001b[49m\u001b[43mkeepdims\u001b[49m\u001b[43m,\u001b[49m\n\u001b[1;32m   1624\u001b[0m \u001b[43m    \u001b[49m\u001b[43mbehavior\u001b[49m\u001b[43m,\u001b[49m\n\u001b[1;32m   1625\u001b[0m \u001b[43m\u001b[49m\u001b[43m)\u001b[49m\n\u001b[1;32m   1627\u001b[0m outoffsets \u001b[38;5;241m=\u001b[39m Index64\u001b[38;5;241m.\u001b[39mempty(outlength \u001b[38;5;241m+\u001b[39m \u001b[38;5;241m1\u001b[39m, index_nplike)\n",
      "File \u001b[0;32m/floppy/code/awkward/src/awkward/contents/unmaskedarray.py:455\u001b[0m, in \u001b[0;36mUnmaskedArray._reduce_next\u001b[0;34m(self, reducer, negaxis, starts, shifts, parents, outlength, mask, keepdims, behavior)\u001b[0m\n\u001b[1;32m    443\u001b[0m \u001b[38;5;28;01mdef\u001b[39;00m \u001b[38;5;21m_reduce_next\u001b[39m(\n\u001b[1;32m    444\u001b[0m     \u001b[38;5;28mself\u001b[39m,\n\u001b[1;32m    445\u001b[0m     reducer,\n\u001b[0;32m   (...)\u001b[0m\n\u001b[1;32m    453\u001b[0m     behavior,\n\u001b[1;32m    454\u001b[0m ):\n\u001b[0;32m--> 455\u001b[0m     \u001b[38;5;28;01mreturn\u001b[39;00m \u001b[38;5;28;43mself\u001b[39;49m\u001b[38;5;241;43m.\u001b[39;49m\u001b[43m_content\u001b[49m\u001b[38;5;241;43m.\u001b[39;49m\u001b[43m_reduce_next\u001b[49m\u001b[43m(\u001b[49m\n\u001b[1;32m    456\u001b[0m \u001b[43m        \u001b[49m\u001b[43mreducer\u001b[49m\u001b[43m,\u001b[49m\n\u001b[1;32m    457\u001b[0m \u001b[43m        \u001b[49m\u001b[43mnegaxis\u001b[49m\u001b[43m,\u001b[49m\n\u001b[1;32m    458\u001b[0m \u001b[43m        \u001b[49m\u001b[43mstarts\u001b[49m\u001b[43m,\u001b[49m\n\u001b[1;32m    459\u001b[0m \u001b[43m        \u001b[49m\u001b[43mshifts\u001b[49m\u001b[43m,\u001b[49m\n\u001b[1;32m    460\u001b[0m \u001b[43m        \u001b[49m\u001b[43mparents\u001b[49m\u001b[43m,\u001b[49m\n\u001b[1;32m    461\u001b[0m \u001b[43m        \u001b[49m\u001b[43moutlength\u001b[49m\u001b[43m,\u001b[49m\n\u001b[1;32m    462\u001b[0m \u001b[43m        \u001b[49m\u001b[43mmask\u001b[49m\u001b[43m,\u001b[49m\n\u001b[1;32m    463\u001b[0m \u001b[43m        \u001b[49m\u001b[43mkeepdims\u001b[49m\u001b[43m,\u001b[49m\n\u001b[1;32m    464\u001b[0m \u001b[43m        \u001b[49m\u001b[43mbehavior\u001b[49m\u001b[43m,\u001b[49m\n\u001b[1;32m    465\u001b[0m \u001b[43m    \u001b[49m\u001b[43m)\u001b[49m\n",
      "File \u001b[0;32m/floppy/code/awkward/src/awkward/contents/listoffsetarray.py:1476\u001b[0m, in \u001b[0;36mListOffsetArray._reduce_next\u001b[0;34m(self, reducer, negaxis, starts, shifts, parents, outlength, mask, keepdims, behavior)\u001b[0m\n\u001b[1;32m   1475\u001b[0m     \u001b[38;5;28mnext\u001b[39m \u001b[38;5;241m=\u001b[39m \u001b[38;5;28mself\u001b[39m\u001b[38;5;241m.\u001b[39mto_ListOffsetArray64(\u001b[38;5;28;01mTrue\u001b[39;00m)\n\u001b[0;32m-> 1476\u001b[0m     \u001b[38;5;28;01mreturn\u001b[39;00m \u001b[38;5;28;43mnext\u001b[39;49m\u001b[38;5;241;43m.\u001b[39;49m\u001b[43m_reduce_next\u001b[49m\u001b[43m(\u001b[49m\n\u001b[1;32m   1477\u001b[0m \u001b[43m        \u001b[49m\u001b[43mreducer\u001b[49m\u001b[43m,\u001b[49m\n\u001b[1;32m   1478\u001b[0m \u001b[43m        \u001b[49m\u001b[43mnegaxis\u001b[49m\u001b[43m,\u001b[49m\n\u001b[1;32m   1479\u001b[0m \u001b[43m        \u001b[49m\u001b[43mstarts\u001b[49m\u001b[43m,\u001b[49m\n\u001b[1;32m   1480\u001b[0m \u001b[43m        \u001b[49m\u001b[43mshifts\u001b[49m\u001b[43m,\u001b[49m\n\u001b[1;32m   1481\u001b[0m \u001b[43m        \u001b[49m\u001b[43mparents\u001b[49m\u001b[43m,\u001b[49m\n\u001b[1;32m   1482\u001b[0m \u001b[43m        \u001b[49m\u001b[43moutlength\u001b[49m\u001b[43m,\u001b[49m\n\u001b[1;32m   1483\u001b[0m \u001b[43m        \u001b[49m\u001b[43mmask\u001b[49m\u001b[43m,\u001b[49m\n\u001b[1;32m   1484\u001b[0m \u001b[43m        \u001b[49m\u001b[43mkeepdims\u001b[49m\u001b[43m,\u001b[49m\n\u001b[1;32m   1485\u001b[0m \u001b[43m        \u001b[49m\u001b[43mbehavior\u001b[49m\u001b[43m,\u001b[49m\n\u001b[1;32m   1486\u001b[0m \u001b[43m    \u001b[49m\u001b[43m)\u001b[49m\n\u001b[1;32m   1488\u001b[0m branch, depth \u001b[38;5;241m=\u001b[39m \u001b[38;5;28mself\u001b[39m\u001b[38;5;241m.\u001b[39mbranch_depth\n",
      "File \u001b[0;32m/floppy/code/awkward/src/awkward/contents/listoffsetarray.py:1499\u001b[0m, in \u001b[0;36mListOffsetArray._reduce_next\u001b[0;34m(self, reducer, negaxis, starts, shifts, parents, outlength, mask, keepdims, behavior)\u001b[0m\n\u001b[1;32m   1491\u001b[0m \u001b[38;5;28;01mif\u001b[39;00m \u001b[38;5;129;01mnot\u001b[39;00m branch \u001b[38;5;129;01mand\u001b[39;00m negaxis \u001b[38;5;241m==\u001b[39m depth:\n\u001b[1;32m   1492\u001b[0m     (\n\u001b[1;32m   1493\u001b[0m         distincts,\n\u001b[1;32m   1494\u001b[0m         maxcount,\n\u001b[1;32m   1495\u001b[0m         maxnextparents,\n\u001b[1;32m   1496\u001b[0m         nextcarry,\n\u001b[1;32m   1497\u001b[0m         nextparents,\n\u001b[1;32m   1498\u001b[0m         nextstarts,\n\u001b[0;32m-> 1499\u001b[0m     ) \u001b[38;5;241m=\u001b[39m \u001b[38;5;28;43mself\u001b[39;49m\u001b[38;5;241;43m.\u001b[39;49m\u001b[43m_rearrange_prepare_next\u001b[49m\u001b[43m(\u001b[49m\u001b[43moutlength\u001b[49m\u001b[43m,\u001b[49m\u001b[43m \u001b[49m\u001b[43mparents\u001b[49m\u001b[43m)\u001b[49m\n\u001b[1;32m   1501\u001b[0m     outstarts \u001b[38;5;241m=\u001b[39m Index64\u001b[38;5;241m.\u001b[39mempty(outlength, index_nplike)\n",
      "File \u001b[0;32m/floppy/code/awkward/src/awkward/contents/listoffsetarray.py:1700\u001b[0m, in \u001b[0;36mListOffsetArray._rearrange_prepare_next\u001b[0;34m(self, outlength, parents)\u001b[0m\n\u001b[1;32m   1692\u001b[0m \u001b[38;5;28;01massert\u001b[39;00m (\n\u001b[1;32m   1693\u001b[0m     _maxnextparents\u001b[38;5;241m.\u001b[39mnplike \u001b[38;5;129;01mis\u001b[39;00m index_nplike\n\u001b[1;32m   1694\u001b[0m     \u001b[38;5;129;01mand\u001b[39;00m distincts\u001b[38;5;241m.\u001b[39mnplike \u001b[38;5;129;01mis\u001b[39;00m index_nplike\n\u001b[0;32m   (...)\u001b[0m\n\u001b[1;32m   1697\u001b[0m     \u001b[38;5;129;01mand\u001b[39;00m parents\u001b[38;5;241m.\u001b[39mnplike \u001b[38;5;129;01mis\u001b[39;00m index_nplike\n\u001b[1;32m   1698\u001b[0m )\n\u001b[1;32m   1699\u001b[0m \u001b[38;5;28mself\u001b[39m\u001b[38;5;241m.\u001b[39m_backend\u001b[38;5;241m.\u001b[39mmaybe_kernel_error(\n\u001b[0;32m-> 1700\u001b[0m     \u001b[38;5;28;43mself\u001b[39;49m\u001b[38;5;241;43m.\u001b[39;49m\u001b[43m_backend\u001b[49m\u001b[43m[\u001b[49m\n\u001b[1;32m   1701\u001b[0m \u001b[43m        \u001b[49m\u001b[38;5;124;43m\"\u001b[39;49m\u001b[38;5;124;43mawkward_ListOffsetArray_reduce_nonlocal_preparenext_64\u001b[39;49m\u001b[38;5;124;43m\"\u001b[39;49m\u001b[43m,\u001b[49m\n\u001b[1;32m   1702\u001b[0m \u001b[43m        \u001b[49m\u001b[43mnextcarry\u001b[49m\u001b[38;5;241;43m.\u001b[39;49m\u001b[43mdtype\u001b[49m\u001b[38;5;241;43m.\u001b[39;49m\u001b[43mtype\u001b[49m\u001b[43m,\u001b[49m\n\u001b[1;32m   1703\u001b[0m \u001b[43m        \u001b[49m\u001b[43mnextparents\u001b[49m\u001b[38;5;241;43m.\u001b[39;49m\u001b[43mdtype\u001b[49m\u001b[38;5;241;43m.\u001b[39;49m\u001b[43mtype\u001b[49m\u001b[43m,\u001b[49m\n\u001b[1;32m   1704\u001b[0m \u001b[43m        \u001b[49m\u001b[43m_maxnextparents\u001b[49m\u001b[38;5;241;43m.\u001b[39;49m\u001b[43mdtype\u001b[49m\u001b[38;5;241;43m.\u001b[39;49m\u001b[43mtype\u001b[49m\u001b[43m,\u001b[49m\n\u001b[1;32m   1705\u001b[0m \u001b[43m        \u001b[49m\u001b[43mdistincts\u001b[49m\u001b[38;5;241;43m.\u001b[39;49m\u001b[43mdtype\u001b[49m\u001b[38;5;241;43m.\u001b[39;49m\u001b[43mtype\u001b[49m\u001b[43m,\u001b[49m\n\u001b[1;32m   1706\u001b[0m \u001b[43m        \u001b[49m\u001b[38;5;28;43mself\u001b[39;49m\u001b[38;5;241;43m.\u001b[39;49m\u001b[43m_offsets\u001b[49m\u001b[38;5;241;43m.\u001b[39;49m\u001b[43mdtype\u001b[49m\u001b[38;5;241;43m.\u001b[39;49m\u001b[43mtype\u001b[49m\u001b[43m,\u001b[49m\n\u001b[1;32m   1707\u001b[0m \u001b[43m        \u001b[49m\u001b[43moffsetscopy\u001b[49m\u001b[38;5;241;43m.\u001b[39;49m\u001b[43mdtype\u001b[49m\u001b[38;5;241;43m.\u001b[39;49m\u001b[43mtype\u001b[49m\u001b[43m,\u001b[49m\n\u001b[1;32m   1708\u001b[0m \u001b[43m        \u001b[49m\u001b[43mparents\u001b[49m\u001b[38;5;241;43m.\u001b[39;49m\u001b[43mdtype\u001b[49m\u001b[38;5;241;43m.\u001b[39;49m\u001b[43mtype\u001b[49m\u001b[43m,\u001b[49m\n\u001b[1;32m   1709\u001b[0m \u001b[43m    \u001b[49m\u001b[43m]\u001b[49m(\n\u001b[1;32m   1710\u001b[0m         nextcarry\u001b[38;5;241m.\u001b[39mdata,\n\u001b[1;32m   1711\u001b[0m         nextparents\u001b[38;5;241m.\u001b[39mdata,\n\u001b[1;32m   1712\u001b[0m         nextlen,\n\u001b[1;32m   1713\u001b[0m         _maxnextparents\u001b[38;5;241m.\u001b[39mdata,\n\u001b[1;32m   1714\u001b[0m         distincts\u001b[38;5;241m.\u001b[39mdata,\n\u001b[1;32m   1715\u001b[0m         distincts\u001b[38;5;241m.\u001b[39mlength,\n\u001b[1;32m   1716\u001b[0m         offsetscopy\u001b[38;5;241m.\u001b[39mdata,\n\u001b[1;32m   1717\u001b[0m         \u001b[38;5;28mself\u001b[39m\u001b[38;5;241m.\u001b[39m_offsets\u001b[38;5;241m.\u001b[39mdata,\n\u001b[1;32m   1718\u001b[0m         lenstarts,\n\u001b[1;32m   1719\u001b[0m         parents\u001b[38;5;241m.\u001b[39mdata,\n\u001b[1;32m   1720\u001b[0m         maxcount,\n\u001b[1;32m   1721\u001b[0m     )\n\u001b[1;32m   1722\u001b[0m )\n\u001b[1;32m   1724\u001b[0m maxnextparents \u001b[38;5;241m=\u001b[39m index_nplike\u001b[38;5;241m.\u001b[39mindex_as_shape_item(_maxnextparents[\u001b[38;5;241m0\u001b[39m])\n",
      "File \u001b[0;32m/floppy/code/awkward/src/awkward/_backends/cupy.py:43\u001b[0m, in \u001b[0;36mCupyBackend.__getitem__\u001b[0;34m(self, index)\u001b[0m\n\u001b[1;32m     42\u001b[0m \u001b[38;5;28;01melse\u001b[39;00m:\n\u001b[0;32m---> 43\u001b[0m     \u001b[38;5;28;01mraise\u001b[39;00m \u001b[38;5;167;01mAssertionError\u001b[39;00m(\u001b[38;5;124mf\u001b[39m\u001b[38;5;124m\"\u001b[39m\u001b[38;5;124mCuPyKernel not found: \u001b[39m\u001b[38;5;132;01m{\u001b[39;00mindex\u001b[38;5;132;01m!r}\u001b[39;00m\u001b[38;5;124m\"\u001b[39m)\n",
      "\u001b[0;31mAssertionError\u001b[0m: CuPyKernel not found: ('awkward_ListOffsetArray_reduce_nonlocal_preparenext_64', <class 'numpy.int64'>, <class 'numpy.int64'>, <class 'numpy.int64'>, <class 'numpy.int64'>, <class 'numpy.int64'>, <class 'numpy.int64'>, <class 'numpy.int64'>)",
      "\nThe above exception was the direct cause of the following exception:\n",
      "\u001b[0;31mAssertionError\u001b[0m                            Traceback (most recent call last)",
      "Cell \u001b[0;32mIn[27], line 1\u001b[0m\n\u001b[0;32m----> 1\u001b[0m \u001b[43mdf\u001b[49m\u001b[38;5;241;43m.\u001b[39;49m\u001b[43ma\u001b[49m\u001b[38;5;241;43m.\u001b[39;49m\u001b[43mak\u001b[49m\u001b[38;5;241;43m.\u001b[39;49m\u001b[43msum\u001b[49m\u001b[43m(\u001b[49m\u001b[43maxis\u001b[49m\u001b[38;5;241;43m=\u001b[39;49m\u001b[38;5;241;43m1\u001b[39;49m\u001b[43m)\u001b[49m\n",
      "File \u001b[0;32m/floppy/code/awkward-pandas/src/awkward_pandas/cudf.py:62\u001b[0m, in \u001b[0;36mAwkwardAccessor.__getattr__.<locals>.f\u001b[0;34m(*others, **kwargs)\u001b[0m\n\u001b[1;32m     51\u001b[0m others \u001b[38;5;241m=\u001b[39m [\n\u001b[1;32m     52\u001b[0m     other\u001b[38;5;241m.\u001b[39mak\u001b[38;5;241m.\u001b[39marray\n\u001b[1;32m     53\u001b[0m     \u001b[38;5;28;01mif\u001b[39;00m \u001b[38;5;28misinstance\u001b[39m(other, (DataFrame, Series))\n\u001b[1;32m     54\u001b[0m     \u001b[38;5;28;01melse\u001b[39;00m other\n\u001b[1;32m     55\u001b[0m     \u001b[38;5;28;01mfor\u001b[39;00m other \u001b[38;5;129;01min\u001b[39;00m others\n\u001b[1;32m     56\u001b[0m ]\n\u001b[1;32m     57\u001b[0m kwargs \u001b[38;5;241m=\u001b[39m {\n\u001b[1;32m     58\u001b[0m     k: v\u001b[38;5;241m.\u001b[39mak\u001b[38;5;241m.\u001b[39marray \u001b[38;5;28;01mif\u001b[39;00m \u001b[38;5;28misinstance\u001b[39m(v, (DataFrame, Series)) \u001b[38;5;28;01melse\u001b[39;00m v\n\u001b[1;32m     59\u001b[0m     \u001b[38;5;28;01mfor\u001b[39;00m k, v \u001b[38;5;129;01min\u001b[39;00m kwargs\u001b[38;5;241m.\u001b[39mitems()\n\u001b[1;32m     60\u001b[0m }\n\u001b[0;32m---> 62\u001b[0m ak_arr \u001b[38;5;241m=\u001b[39m \u001b[43mfunc\u001b[49m\u001b[43m(\u001b[49m\u001b[38;5;28;43mself\u001b[39;49m\u001b[38;5;241;43m.\u001b[39;49m\u001b[43marray\u001b[49m\u001b[43m,\u001b[49m\u001b[43m \u001b[49m\u001b[38;5;241;43m*\u001b[39;49m\u001b[43mothers\u001b[49m\u001b[43m,\u001b[49m\u001b[43m \u001b[49m\u001b[38;5;241;43m*\u001b[39;49m\u001b[38;5;241;43m*\u001b[39;49m\u001b[43mkwargs\u001b[49m\u001b[43m)\u001b[49m\n\u001b[1;32m     63\u001b[0m \u001b[38;5;28;01mreturn\u001b[39;00m maybe_to_cudf(ak_arr)\n",
      "File \u001b[0;32m/floppy/code/awkward/src/awkward/_dispatch.py:38\u001b[0m, in \u001b[0;36mnamed_high_level_function.<locals>.dispatch\u001b[0;34m(*args, **kwargs)\u001b[0m\n\u001b[1;32m     35\u001b[0m \u001b[38;5;129m@wraps\u001b[39m(func)\n\u001b[1;32m     36\u001b[0m \u001b[38;5;28;01mdef\u001b[39;00m \u001b[38;5;21mdispatch\u001b[39m(\u001b[38;5;241m*\u001b[39margs, \u001b[38;5;241m*\u001b[39m\u001b[38;5;241m*\u001b[39mkwargs):\n\u001b[1;32m     37\u001b[0m     \u001b[38;5;66;03m# NOTE: this decorator assumes that the operation is exposed under `ak.`\u001b[39;00m\n\u001b[0;32m---> 38\u001b[0m     \u001b[38;5;28;01mwith\u001b[39;00m OperationErrorContext(name, args, kwargs):\n\u001b[1;32m     39\u001b[0m         gen_or_result \u001b[38;5;241m=\u001b[39m func(\u001b[38;5;241m*\u001b[39margs, \u001b[38;5;241m*\u001b[39m\u001b[38;5;241m*\u001b[39mkwargs)\n\u001b[1;32m     40\u001b[0m         \u001b[38;5;28;01mif\u001b[39;00m isgenerator(gen_or_result):\n",
      "File \u001b[0;32m/floppy/code/awkward/src/awkward/_errors.py:85\u001b[0m, in \u001b[0;36mErrorContext.__exit__\u001b[0;34m(self, exception_type, exception_value, traceback)\u001b[0m\n\u001b[1;32m     78\u001b[0m \u001b[38;5;28;01mtry\u001b[39;00m:\n\u001b[1;32m     79\u001b[0m     \u001b[38;5;66;03m# Handle caught exception\u001b[39;00m\n\u001b[1;32m     80\u001b[0m     \u001b[38;5;28;01mif\u001b[39;00m (\n\u001b[1;32m     81\u001b[0m         exception_type \u001b[38;5;129;01mis\u001b[39;00m \u001b[38;5;129;01mnot\u001b[39;00m \u001b[38;5;28;01mNone\u001b[39;00m\n\u001b[1;32m     82\u001b[0m         \u001b[38;5;129;01mand\u001b[39;00m \u001b[38;5;28missubclass\u001b[39m(exception_type, \u001b[38;5;167;01mException\u001b[39;00m)\n\u001b[1;32m     83\u001b[0m         \u001b[38;5;129;01mand\u001b[39;00m \u001b[38;5;28mself\u001b[39m\u001b[38;5;241m.\u001b[39mprimary() \u001b[38;5;129;01mis\u001b[39;00m \u001b[38;5;28mself\u001b[39m\n\u001b[1;32m     84\u001b[0m     ):\n\u001b[0;32m---> 85\u001b[0m         \u001b[38;5;28;43mself\u001b[39;49m\u001b[38;5;241;43m.\u001b[39;49m\u001b[43mhandle_exception\u001b[49m\u001b[43m(\u001b[49m\u001b[43mexception_type\u001b[49m\u001b[43m,\u001b[49m\u001b[43m \u001b[49m\u001b[43mexception_value\u001b[49m\u001b[43m)\u001b[49m\n\u001b[1;32m     86\u001b[0m \u001b[38;5;28;01mfinally\u001b[39;00m:\n\u001b[1;32m     87\u001b[0m     \u001b[38;5;66;03m# Step out of the way so that another ErrorContext can become primary.\u001b[39;00m\n\u001b[1;32m     88\u001b[0m     \u001b[38;5;28;01mif\u001b[39;00m \u001b[38;5;28mself\u001b[39m\u001b[38;5;241m.\u001b[39mprimary() \u001b[38;5;129;01mis\u001b[39;00m \u001b[38;5;28mself\u001b[39m:\n",
      "File \u001b[0;32m/floppy/code/awkward/src/awkward/_errors.py:95\u001b[0m, in \u001b[0;36mErrorContext.handle_exception\u001b[0;34m(self, cls, exception)\u001b[0m\n\u001b[1;32m     93\u001b[0m     \u001b[38;5;28mself\u001b[39m\u001b[38;5;241m.\u001b[39mdecorate_exception(\u001b[38;5;28mcls\u001b[39m, exception)\n\u001b[1;32m     94\u001b[0m \u001b[38;5;28;01melse\u001b[39;00m:\n\u001b[0;32m---> 95\u001b[0m     \u001b[38;5;28;01mraise\u001b[39;00m \u001b[38;5;28mself\u001b[39m\u001b[38;5;241m.\u001b[39mdecorate_exception(\u001b[38;5;28mcls\u001b[39m, exception)\n",
      "\u001b[0;31mAssertionError\u001b[0m: CuPyKernel not found: ('awkward_ListOffsetArray_reduce_nonlocal_preparenext_64', <class 'numpy.int64'>, <class 'numpy.int64'>, <class 'numpy.int64'>, <class 'numpy.int64'>, <class 'numpy.int64'>, <class 'numpy.int64'>, <class 'numpy.int64'>)\n\nSee if this has been reported at https://github.com/scikit-hep/awkward/issues"
     ]
    }
   ],
   "source": [
    "df.a.ak.sum(axis=1)"
   ]
  },
  {
   "cell_type": "code",
   "execution_count": 12,
   "id": "2dd99fe5-0523-46c9-87ec-1392070f5139",
   "metadata": {},
   "outputs": [
    {
     "data": {
      "text/plain": [
       "cupy.ndarray"
      ]
     },
     "execution_count": 12,
     "metadata": {},
     "output_type": "execute_result"
    }
   ],
   "source": [
    "# if output was array-like, it stays on the GPU\n",
    "type(_)"
   ]
  },
  {
   "cell_type": "code",
   "execution_count": 13,
   "id": "9d8e55cf-8cf1-40a0-8733-24b7719f431d",
   "metadata": {},
   "outputs": [
    {
     "name": "stdout",
     "output_type": "stream",
     "text": [
      "7.09 ms ± 118 µs per loop (mean ± std. dev. of 7 runs, 100 loops each)\n"
     ]
    }
   ],
   "source": [
    "# fast reduction across three levels of nesting\n",
    "%timeit df.a.ak.sum(axis=None)"
   ]
  },
  {
   "cell_type": "code",
   "execution_count": 14,
   "id": "fae94aea-d9cf-4228-bcab-f843c7cc9c98",
   "metadata": {},
   "outputs": [
    {
     "data": {
      "text/html": [
       "<pre>[[[-1, -2, -3], [], [-4, -5]],\n",
       " [[-1, -2, -3], [], [-4, -5]],\n",
       " [[-1, -2, -3], [], [-4, -5]],\n",
       " [[-1, -2, -3], [], [-4, -5]],\n",
       " [[-1, -2, -3], [], [-4, -5]],\n",
       " [[-1, -2, -3], [], [-4, -5]],\n",
       " [[-1, -2, -3], [], [-4, -5]],\n",
       " [[-1, -2, -3], [], [-4, -5]],\n",
       " [[-1, -2, -3], [], [-4, -5]],\n",
       " [[-1, -2, -3], [], [-4, -5]],\n",
       " ...,\n",
       " [[-6, -7]],\n",
       " [[-6, -7]],\n",
       " [[-6, -7]],\n",
       " [[-6, -7]],\n",
       " [[-6, -7]],\n",
       " [[-6, -7]],\n",
       " [[-6, -7]],\n",
       " [[-6, -7]],\n",
       " [[-6, -7]]]\n",
       "------------------------------------------\n",
       "type: 2000000 * var * option[var * ?int64]</pre>"
      ],
      "text/plain": [
       "<Array [[[-1, -2, -3], ..., [-4, ...]], ...] type='2000000 * var * option[v...'>"
      ]
     },
     "execution_count": 14,
     "metadata": {},
     "output_type": "execute_result"
    }
   ],
   "source": [
    "# ufunc maintains structure\n",
    "np.negative(df.a.ak)"
   ]
  },
  {
   "cell_type": "code",
   "execution_count": 15,
   "id": "1b83da2c-5e15-42f6-b594-f2ebaece5ac8",
   "metadata": {},
   "outputs": [
    {
     "name": "stdout",
     "output_type": "stream",
     "text": [
      "362MiB\n"
     ]
    }
   ],
   "source": [
    "gpu_mem()  # created new arrays on GPU, made new cuDF series"
   ]
  },
  {
   "cell_type": "code",
   "execution_count": 23,
   "id": "558ca2c3-d6c7-4404-bcab-557b9b03f795",
   "metadata": {},
   "outputs": [
    {
     "name": "stdout",
     "output_type": "stream",
     "text": [
      "0    [[2, 3, 4], [], [5, 6]]\n",
      "1    [[2, 3, 4], [], [5, 6]]\n",
      "2    [[2, 3, 4], [], [5, 6]]\n",
      "3    [[2, 3, 4], [], [5, 6]]\n",
      "4    [[2, 3, 4], [], [5, 6]]\n",
      "dtype: list\n"
     ]
    }
   ],
   "source": [
    "# operator overload\n",
    "print((df.a.ak + 1).head())"
   ]
  },
  {
   "cell_type": "code",
   "execution_count": null,
   "id": "d240ea54-87b4-4b99-b67f-b2f885a4bf5e",
   "metadata": {},
   "outputs": [],
   "source": []
  }
 ],
 "metadata": {
  "kernelspec": {
   "display_name": "Python [conda env:cuda]",
   "language": "python",
   "name": "conda-env-cuda-py"
  },
  "language_info": {
   "codemirror_mode": {
    "name": "ipython",
    "version": 3
   },
   "file_extension": ".py",
   "mimetype": "text/x-python",
   "name": "python",
   "nbconvert_exporter": "python",
   "pygments_lexer": "ipython3",
   "version": "3.10.14"
  }
 },
 "nbformat": 4,
 "nbformat_minor": 5
}
