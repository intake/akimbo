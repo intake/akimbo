{
 "cells": [
  {
   "cell_type": "markdown",
   "id": "59204560",
   "metadata": {},
   "source": [
    "# Quick Start"
   ]
  },
  {
   "cell_type": "markdown",
   "id": "f52a6720",
   "metadata": {},
   "source": [
    "Import the packages that we'll use:"
   ]
  },
  {
   "cell_type": "code",
   "execution_count": 1,
   "id": "c371c93d",
   "metadata": {},
   "outputs": [],
   "source": [
    "import awkward as ak\n",
    "import awkward_pandas as akpd\n",
    "import numpy as np\n",
    "import pandas as pd"
   ]
  },
  {
   "cell_type": "markdown",
   "id": "62af7184",
   "metadata": {},
   "source": [
    "Check what versions we have:"
   ]
  },
  {
   "cell_type": "code",
   "execution_count": 2,
   "id": "fd8cebd9",
   "metadata": {},
   "outputs": [
    {
     "data": {
      "text/html": [
       "<pre style=\"white-space:pre;overflow-x:auto;line-height:normal;font-family:Menlo,'DejaVu Sans Mono',consolas,'Courier New',monospace\">awkward         <span style=\"color: #008080; text-decoration-color: #008080; font-weight: bold\">2.3</span>.<span style=\"color: #008080; text-decoration-color: #008080; font-weight: bold\">2</span>\n",
       "</pre>\n"
      ],
      "text/plain": [
       "awkward         \u001b[1;36m2.3\u001b[0m.\u001b[1;36m2\u001b[0m\n"
      ]
     },
     "metadata": {},
     "output_type": "display_data"
    },
    {
     "data": {
      "text/html": [
       "<pre style=\"white-space:pre;overflow-x:auto;line-height:normal;font-family:Menlo,'DejaVu Sans Mono',consolas,'Courier New',monospace\">awkward_pandas  <span style=\"color: #008080; text-decoration-color: #008080; font-weight: bold\">2023.8</span>.<span style=\"color: #008080; text-decoration-color: #008080; font-weight: bold\">1.</span>dev2+g7abb99c\n",
       "</pre>\n"
      ],
      "text/plain": [
       "awkward_pandas  \u001b[1;36m2023.8\u001b[0m.\u001b[1;36m1.\u001b[0mdev2+g7abb99c\n"
      ]
     },
     "metadata": {},
     "output_type": "display_data"
    },
    {
     "data": {
      "text/html": [
       "<pre style=\"white-space:pre;overflow-x:auto;line-height:normal;font-family:Menlo,'DejaVu Sans Mono',consolas,'Courier New',monospace\">numpy           <span style=\"color: #008080; text-decoration-color: #008080; font-weight: bold\">1.23</span>.<span style=\"color: #008080; text-decoration-color: #008080; font-weight: bold\">5</span>\n",
       "</pre>\n"
      ],
      "text/plain": [
       "numpy           \u001b[1;36m1.23\u001b[0m.\u001b[1;36m5\u001b[0m\n"
      ]
     },
     "metadata": {},
     "output_type": "display_data"
    },
    {
     "data": {
      "text/html": [
       "<pre style=\"white-space:pre;overflow-x:auto;line-height:normal;font-family:Menlo,'DejaVu Sans Mono',consolas,'Courier New',monospace\">pandas          <span style=\"color: #008080; text-decoration-color: #008080; font-weight: bold\">1.5</span>.<span style=\"color: #008080; text-decoration-color: #008080; font-weight: bold\">2</span>\n",
       "</pre>\n"
      ],
      "text/plain": [
       "pandas          \u001b[1;36m1.5\u001b[0m.\u001b[1;36m2\u001b[0m\n"
      ]
     },
     "metadata": {},
     "output_type": "display_data"
    }
   ],
   "source": [
    "for entry in (ak, akpd, np, pd):\n",
    "    print(f\"{entry.__name__:15} {entry.__version__}\")"
   ]
  },
  {
   "cell_type": "markdown",
   "id": "199cc9d4",
   "metadata": {},
   "source": [
    "Make a simple awkward array:"
   ]
  },
  {
   "cell_type": "code",
   "execution_count": 3,
   "id": "a4d0d2dc",
   "metadata": {},
   "outputs": [],
   "source": [
    "a = ak.from_iter([[1, 2, 3], [4, 5], [6]] * 5)"
   ]
  },
  {
   "cell_type": "code",
   "execution_count": 4,
   "id": "aca61be9",
   "metadata": {},
   "outputs": [
    {
     "data": {
      "text/html": [
       "<pre>[[1, 2, 3],\n",
       " [4, 5],\n",
       " [6],\n",
       " [1, 2, 3],\n",
       " [4, 5],\n",
       " [6],\n",
       " [1, 2, 3],\n",
       " [4, 5],\n",
       " [6],\n",
       " [1, 2, 3],\n",
       " [4, 5],\n",
       " [6],\n",
       " [1, 2, 3],\n",
       " [4, 5],\n",
       " [6]]\n",
       "----------------------\n",
       "type: 15 * var * int64</pre>"
      ],
      "text/plain": [
       "<Array [[1, 2, 3], [4, 5], [6], ..., [4, 5], [6]] type='15 * var * int64'>"
      ]
     },
     "execution_count": 4,
     "metadata": {},
     "output_type": "execute_result"
    }
   ],
   "source": [
    "a"
   ]
  },
  {
   "cell_type": "markdown",
   "id": "021d3236",
   "metadata": {},
   "source": [
    "We get a series representation of the awkward array by using awkward-pandas `form_awkward` function:"
   ]
  },
  {
   "cell_type": "code",
   "execution_count": 5,
   "id": "163bec0e",
   "metadata": {},
   "outputs": [],
   "source": [
    "s = akpd.from_awkward(a, name=\"a\")"
   ]
  },
  {
   "cell_type": "code",
   "execution_count": 6,
   "id": "2efdc549",
   "metadata": {},
   "outputs": [
    {
     "data": {
      "text/plain": [
       "0     [1, 2, 3]\n",
       "1        [4, 5]\n",
       "2           [6]\n",
       "3     [1, 2, 3]\n",
       "4        [4, 5]\n",
       "5           [6]\n",
       "6     [1, 2, 3]\n",
       "7        [4, 5]\n",
       "8           [6]\n",
       "9     [1, 2, 3]\n",
       "10       [4, 5]\n",
       "11          [6]\n",
       "12    [1, 2, 3]\n",
       "13       [4, 5]\n",
       "14          [6]\n",
       "Name: a, dtype: awkward"
      ]
     },
     "execution_count": 6,
     "metadata": {},
     "output_type": "execute_result"
    }
   ],
   "source": [
    "s"
   ]
  },
  {
   "cell_type": "markdown",
   "id": "9a065083",
   "metadata": {},
   "source": [
    "We can put the series in a DataFrame with another built-in pandas type, e.g. a column of integers:"
   ]
  },
  {
   "cell_type": "code",
   "execution_count": 7,
   "id": "8ec01cae",
   "metadata": {},
   "outputs": [],
   "source": [
    "df = pd.DataFrame({\"integers\": np.arange(42, 42 + len(s)), \"awkwardstuff\": s})"
   ]
  },
  {
   "cell_type": "code",
   "execution_count": 8,
   "id": "2733ace7",
   "metadata": {
    "scrolled": true
   },
   "outputs": [
    {
     "data": {
      "text/html": [
       "<div>\n",
       "<style scoped>\n",
       "    .dataframe tbody tr th:only-of-type {\n",
       "        vertical-align: middle;\n",
       "    }\n",
       "\n",
       "    .dataframe tbody tr th {\n",
       "        vertical-align: top;\n",
       "    }\n",
       "\n",
       "    .dataframe thead th {\n",
       "        text-align: right;\n",
       "    }\n",
       "</style>\n",
       "<table border=\"1\" class=\"dataframe\">\n",
       "  <thead>\n",
       "    <tr style=\"text-align: right;\">\n",
       "      <th></th>\n",
       "      <th>integers</th>\n",
       "      <th>awkwardstuff</th>\n",
       "    </tr>\n",
       "  </thead>\n",
       "  <tbody>\n",
       "    <tr>\n",
       "      <th>0</th>\n",
       "      <td>42</td>\n",
       "      <td>[1, 2, 3]</td>\n",
       "    </tr>\n",
       "    <tr>\n",
       "      <th>1</th>\n",
       "      <td>43</td>\n",
       "      <td>[4, 5]</td>\n",
       "    </tr>\n",
       "    <tr>\n",
       "      <th>2</th>\n",
       "      <td>44</td>\n",
       "      <td>[6]</td>\n",
       "    </tr>\n",
       "    <tr>\n",
       "      <th>3</th>\n",
       "      <td>45</td>\n",
       "      <td>[1, 2, 3]</td>\n",
       "    </tr>\n",
       "    <tr>\n",
       "      <th>4</th>\n",
       "      <td>46</td>\n",
       "      <td>[4, 5]</td>\n",
       "    </tr>\n",
       "    <tr>\n",
       "      <th>5</th>\n",
       "      <td>47</td>\n",
       "      <td>[6]</td>\n",
       "    </tr>\n",
       "    <tr>\n",
       "      <th>6</th>\n",
       "      <td>48</td>\n",
       "      <td>[1, 2, 3]</td>\n",
       "    </tr>\n",
       "    <tr>\n",
       "      <th>7</th>\n",
       "      <td>49</td>\n",
       "      <td>[4, 5]</td>\n",
       "    </tr>\n",
       "    <tr>\n",
       "      <th>8</th>\n",
       "      <td>50</td>\n",
       "      <td>[6]</td>\n",
       "    </tr>\n",
       "    <tr>\n",
       "      <th>9</th>\n",
       "      <td>51</td>\n",
       "      <td>[1, 2, 3]</td>\n",
       "    </tr>\n",
       "    <tr>\n",
       "      <th>10</th>\n",
       "      <td>52</td>\n",
       "      <td>[4, 5]</td>\n",
       "    </tr>\n",
       "    <tr>\n",
       "      <th>11</th>\n",
       "      <td>53</td>\n",
       "      <td>[6]</td>\n",
       "    </tr>\n",
       "    <tr>\n",
       "      <th>12</th>\n",
       "      <td>54</td>\n",
       "      <td>[1, 2, 3]</td>\n",
       "    </tr>\n",
       "    <tr>\n",
       "      <th>13</th>\n",
       "      <td>55</td>\n",
       "      <td>[4, 5]</td>\n",
       "    </tr>\n",
       "    <tr>\n",
       "      <th>14</th>\n",
       "      <td>56</td>\n",
       "      <td>[6]</td>\n",
       "    </tr>\n",
       "  </tbody>\n",
       "</table>\n",
       "</div>"
      ],
      "text/plain": [
       "    integers awkwardstuff\n",
       "0         42    [1, 2, 3]\n",
       "1         43       [4, 5]\n",
       "2         44          [6]\n",
       "3         45    [1, 2, 3]\n",
       "4         46       [4, 5]\n",
       "5         47          [6]\n",
       "6         48    [1, 2, 3]\n",
       "7         49       [4, 5]\n",
       "8         50          [6]\n",
       "9         51    [1, 2, 3]\n",
       "10        52       [4, 5]\n",
       "11        53          [6]\n",
       "12        54    [1, 2, 3]\n",
       "13        55       [4, 5]\n",
       "14        56          [6]"
      ]
     },
     "execution_count": 8,
     "metadata": {},
     "output_type": "execute_result"
    }
   ],
   "source": [
    "df"
   ]
  },
  {
   "cell_type": "markdown",
   "id": "eecd2bc1",
   "metadata": {},
   "source": [
    "With the DataFrame we can start doing usual pandas operations. Here we query the DataFrame based on the column of integers; selecting rows where the integer is even:"
   ]
  },
  {
   "cell_type": "code",
   "execution_count": 9,
   "id": "97ae1c50",
   "metadata": {},
   "outputs": [
    {
     "data": {
      "text/html": [
       "<div>\n",
       "<style scoped>\n",
       "    .dataframe tbody tr th:only-of-type {\n",
       "        vertical-align: middle;\n",
       "    }\n",
       "\n",
       "    .dataframe tbody tr th {\n",
       "        vertical-align: top;\n",
       "    }\n",
       "\n",
       "    .dataframe thead th {\n",
       "        text-align: right;\n",
       "    }\n",
       "</style>\n",
       "<table border=\"1\" class=\"dataframe\">\n",
       "  <thead>\n",
       "    <tr style=\"text-align: right;\">\n",
       "      <th></th>\n",
       "      <th>integers</th>\n",
       "      <th>awkwardstuff</th>\n",
       "    </tr>\n",
       "  </thead>\n",
       "  <tbody>\n",
       "    <tr>\n",
       "      <th>0</th>\n",
       "      <td>42</td>\n",
       "      <td>[1, 2, 3]</td>\n",
       "    </tr>\n",
       "    <tr>\n",
       "      <th>2</th>\n",
       "      <td>44</td>\n",
       "      <td>[6]</td>\n",
       "    </tr>\n",
       "    <tr>\n",
       "      <th>4</th>\n",
       "      <td>46</td>\n",
       "      <td>[4, 5]</td>\n",
       "    </tr>\n",
       "    <tr>\n",
       "      <th>6</th>\n",
       "      <td>48</td>\n",
       "      <td>[1, 2, 3]</td>\n",
       "    </tr>\n",
       "    <tr>\n",
       "      <th>8</th>\n",
       "      <td>50</td>\n",
       "      <td>[6]</td>\n",
       "    </tr>\n",
       "    <tr>\n",
       "      <th>10</th>\n",
       "      <td>52</td>\n",
       "      <td>[4, 5]</td>\n",
       "    </tr>\n",
       "    <tr>\n",
       "      <th>12</th>\n",
       "      <td>54</td>\n",
       "      <td>[1, 2, 3]</td>\n",
       "    </tr>\n",
       "    <tr>\n",
       "      <th>14</th>\n",
       "      <td>56</td>\n",
       "      <td>[6]</td>\n",
       "    </tr>\n",
       "  </tbody>\n",
       "</table>\n",
       "</div>"
      ],
      "text/plain": [
       "    integers awkwardstuff\n",
       "0         42    [1, 2, 3]\n",
       "2         44          [6]\n",
       "4         46       [4, 5]\n",
       "6         48    [1, 2, 3]\n",
       "8         50          [6]\n",
       "10        52       [4, 5]\n",
       "12        54    [1, 2, 3]\n",
       "14        56          [6]"
      ]
     },
     "execution_count": 9,
     "metadata": {},
     "output_type": "execute_result"
    }
   ],
   "source": [
    "df.query(\"integers%2 == 0\")"
   ]
  },
  {
   "cell_type": "markdown",
   "id": "94184aa3",
   "metadata": {},
   "source": [
    "We can use DataFrame and Series methods:"
   ]
  },
  {
   "cell_type": "code",
   "execution_count": 10,
   "id": "9846e9ce",
   "metadata": {},
   "outputs": [
    {
     "data": {
      "text/plain": [
       "integers        56\n",
       "awkwardstuff     6\n",
       "dtype: int64"
      ]
     },
     "execution_count": 10,
     "metadata": {},
     "output_type": "execute_result"
    }
   ],
   "source": [
    "df.max()"
   ]
  },
  {
   "cell_type": "code",
   "execution_count": 11,
   "id": "972e79c8",
   "metadata": {},
   "outputs": [
    {
     "data": {
      "text/plain": [
       "integers        49.0\n",
       "awkwardstuff     3.5\n",
       "dtype: float64"
      ]
     },
     "execution_count": 11,
     "metadata": {},
     "output_type": "execute_result"
    }
   ],
   "source": [
    "df.mean()"
   ]
  },
  {
   "cell_type": "code",
   "execution_count": 12,
   "id": "1f640f5a",
   "metadata": {},
   "outputs": [
    {
     "data": {
      "text/plain": [
       "1"
      ]
     },
     "execution_count": 12,
     "metadata": {},
     "output_type": "execute_result"
    }
   ],
   "source": [
    "df.awkwardstuff.min()"
   ]
  },
  {
   "cell_type": "markdown",
   "id": "c426ee60",
   "metadata": {},
   "source": [
    "To use functions from the `awkward` library, or to access the underlying awkward array directly, we use the `ak` accessor on the `Series` object:"
   ]
  },
  {
   "cell_type": "code",
   "execution_count": 13,
   "id": "a6c908a2",
   "metadata": {},
   "outputs": [
    {
     "data": {
      "text/plain": [
       "<awkward_pandas.accessor.AwkwardAccessor at 0x16943edd0>"
      ]
     },
     "execution_count": 13,
     "metadata": {},
     "output_type": "execute_result"
    }
   ],
   "source": [
    "df.awkwardstuff.ak"
   ]
  },
  {
   "cell_type": "markdown",
   "id": "e50c517e",
   "metadata": {},
   "source": [
    "Here we'll use the accessor to show two different paths that provide the same numerical result represented with different objects:"
   ]
  },
  {
   "cell_type": "code",
   "execution_count": 14,
   "id": "2d8a926a",
   "metadata": {},
   "outputs": [
    {
     "data": {
      "text/plain": [
       "0     1\n",
       "1     4\n",
       "2     6\n",
       "3     1\n",
       "4     4\n",
       "5     6\n",
       "6     1\n",
       "7     4\n",
       "8     6\n",
       "9     1\n",
       "10    4\n",
       "11    6\n",
       "12    1\n",
       "13    4\n",
       "14    6\n",
       "dtype: awkward"
      ]
     },
     "execution_count": 14,
     "metadata": {},
     "output_type": "execute_result"
    }
   ],
   "source": [
    "df.awkwardstuff.ak.min(axis=1)"
   ]
  },
  {
   "cell_type": "code",
   "execution_count": 15,
   "id": "d91a8c9e",
   "metadata": {},
   "outputs": [
    {
     "data": {
      "text/html": [
       "<pre>[1,\n",
       " 4,\n",
       " 6,\n",
       " 1,\n",
       " 4,\n",
       " 6,\n",
       " 1,\n",
       " 4,\n",
       " 6,\n",
       " 1,\n",
       " 4,\n",
       " 6,\n",
       " 1,\n",
       " 4,\n",
       " 6]\n",
       "-----------------\n",
       "type: 15 * ?int64</pre>"
      ],
      "text/plain": [
       "<Array [1, 4, 6, 1, 4, 6, 1, 4, 6, 1, 4, 6, 1, 4, 6] type='15 * ?int64'>"
      ]
     },
     "execution_count": 15,
     "metadata": {},
     "output_type": "execute_result"
    }
   ],
   "source": [
    "ak.min(df.awkwardstuff.ak.array, axis=1)"
   ]
  },
  {
   "cell_type": "markdown",
   "id": "028a10e0",
   "metadata": {},
   "source": [
    "In both cases we are calling the `ak.min` function with the argument `axis=1`. The difference:\n",
    "\n",
    "1. In the first call we are using the accessor on the `pd.Series` and therefore we return a `pd.Series`.\n",
    "\n",
    "2. In the second call we are accessing the underlying array directly, still via the `ak` accessor, but we then call the `ak.min` function directly, so an awkward `Array` object is returned.\n",
    "\n",
    "The second path should be somewhat rare when using awkward-pandas. The purpose of awkward-pandas is to plug awkward-arrays into Pandas-like workflows. If you find yourself reaching for the second type of call, then think about if you actually need Pandas at all! You may be fine just using awkward-array. Of course, there will be occasional reasons to need to reach down to the underlying array, which is why we provide that interface.\n",
    "\n",
    "In general, the `ak` accessor on a `Series` of `awkward` dtype can be used to leverage the `awkward` library while continuing to work with `Series` objects. "
   ]
  },
  {
   "cell_type": "markdown",
   "id": "603472af-68c7-49cf-afd1-cbbf6aadb00e",
   "metadata": {},
   "source": [
    "Let's take a look at another small dataset which contains some players names, their team, and how many goals they've scored in some variable number of games that they've appeared in.\n",
    "\n",
    "The raw data:"
   ]
  },
  {
   "cell_type": "code",
   "execution_count": 16,
   "id": "65c9764d-ce9a-4330-8dd6-49d185c1232c",
   "metadata": {},
   "outputs": [],
   "source": [
    "data = \"\"\"\n",
    "- name: Bob\\n  team: tigers\\n  goals: [0, 0, 0, 1, 2, 0, 1]\\n\\n- name: Alice\\n  team: bears\\n  goals: [3, 2, 1, 0, 1]\\n\\n- name: Jack\\n  team: bears\\n  goals: [0, 0, 0, 0, 0, 0, 0, 0, 1]\\n\\n- name: Jill\\n  team: bears\\n  goals: [3, 0, 2]\\n\\n- name: Ted\\n  team: tigers\\n  goals: [0, 0, 0, 0, 0]\\n\\n- name: Ellen\\n  team: tigers\\n  goals: [1, 0, 0, 0, 2, 0, 1]\\n\\n- name: Dan\\n  team: bears\\n  goals: [0, 0, 3, 1, 0, 2, 0, 0]\\n\\n- name: Brad\\n  team: bears\\n  goals: [0, 0, 4, 0, 0, 1]\\n\\n- name: Nancy\\n  team: tigers\\n  goals: [0, 0, 1, 1, 1, 1, 0]\\n\\n- name: Lance\\n  team: bears\\n  goals: [1, 1, 1, 1, 1]\\n\\n- name: Sara\\n  team: tigers\\n  goals: [0, 1, 0, 2, 0, 3]\\n\\n- name: Ryan\\n  team: tigers\\n  goals: [1, 2, 3, 0, 0, 0, 0]\\n\n",
    "\"\"\""
   ]
  },
  {
   "cell_type": "markdown",
   "id": "0a016204-e2e3-43e4-805f-f923967696a9",
   "metadata": {},
   "source": [
    "The data in YAML format:"
   ]
  },
  {
   "cell_type": "code",
   "execution_count": 17,
   "id": "22b42724-4ca0-44cb-b2cf-a095ea00dac8",
   "metadata": {},
   "outputs": [
    {
     "data": {
      "text/html": [
       "<pre style=\"white-space:pre;overflow-x:auto;line-height:normal;font-family:Menlo,'DejaVu Sans Mono',consolas,'Courier New',monospace\">\n",
       "- name: Bob\n",
       "  team: tigers\n",
       "  goals: <span style=\"font-weight: bold\">[</span><span style=\"color: #008080; text-decoration-color: #008080; font-weight: bold\">0</span>, <span style=\"color: #008080; text-decoration-color: #008080; font-weight: bold\">0</span>, <span style=\"color: #008080; text-decoration-color: #008080; font-weight: bold\">0</span>, <span style=\"color: #008080; text-decoration-color: #008080; font-weight: bold\">1</span>, <span style=\"color: #008080; text-decoration-color: #008080; font-weight: bold\">2</span>, <span style=\"color: #008080; text-decoration-color: #008080; font-weight: bold\">0</span>, <span style=\"color: #008080; text-decoration-color: #008080; font-weight: bold\">1</span><span style=\"font-weight: bold\">]</span>\n",
       "\n",
       "- name: Alice\n",
       "  team: bears\n",
       "  goals: <span style=\"font-weight: bold\">[</span><span style=\"color: #008080; text-decoration-color: #008080; font-weight: bold\">3</span>, <span style=\"color: #008080; text-decoration-color: #008080; font-weight: bold\">2</span>, <span style=\"color: #008080; text-decoration-color: #008080; font-weight: bold\">1</span>, <span style=\"color: #008080; text-decoration-color: #008080; font-weight: bold\">0</span>, <span style=\"color: #008080; text-decoration-color: #008080; font-weight: bold\">1</span><span style=\"font-weight: bold\">]</span>\n",
       "\n",
       "- name: Jack\n",
       "  team: bears\n",
       "  goals: <span style=\"font-weight: bold\">[</span><span style=\"color: #008080; text-decoration-color: #008080; font-weight: bold\">0</span>, <span style=\"color: #008080; text-decoration-color: #008080; font-weight: bold\">0</span>, <span style=\"color: #008080; text-decoration-color: #008080; font-weight: bold\">0</span>, <span style=\"color: #008080; text-decoration-color: #008080; font-weight: bold\">0</span>, <span style=\"color: #008080; text-decoration-color: #008080; font-weight: bold\">0</span>, <span style=\"color: #008080; text-decoration-color: #008080; font-weight: bold\">0</span>, <span style=\"color: #008080; text-decoration-color: #008080; font-weight: bold\">0</span>, <span style=\"color: #008080; text-decoration-color: #008080; font-weight: bold\">0</span>, <span style=\"color: #008080; text-decoration-color: #008080; font-weight: bold\">1</span><span style=\"font-weight: bold\">]</span>\n",
       "\n",
       "- name: Jill\n",
       "  team: bears\n",
       "  goals: <span style=\"font-weight: bold\">[</span><span style=\"color: #008080; text-decoration-color: #008080; font-weight: bold\">3</span>, <span style=\"color: #008080; text-decoration-color: #008080; font-weight: bold\">0</span>, <span style=\"color: #008080; text-decoration-color: #008080; font-weight: bold\">2</span><span style=\"font-weight: bold\">]</span>\n",
       "\n",
       "- name: Ted\n",
       "  team: tigers\n",
       "  goals: <span style=\"font-weight: bold\">[</span><span style=\"color: #008080; text-decoration-color: #008080; font-weight: bold\">0</span>, <span style=\"color: #008080; text-decoration-color: #008080; font-weight: bold\">0</span>, <span style=\"color: #008080; text-decoration-color: #008080; font-weight: bold\">0</span>, <span style=\"color: #008080; text-decoration-color: #008080; font-weight: bold\">0</span>, <span style=\"color: #008080; text-decoration-color: #008080; font-weight: bold\">0</span><span style=\"font-weight: bold\">]</span>\n",
       "\n",
       "- name: Ellen\n",
       "  team: tigers\n",
       "  goals: <span style=\"font-weight: bold\">[</span><span style=\"color: #008080; text-decoration-color: #008080; font-weight: bold\">1</span>, <span style=\"color: #008080; text-decoration-color: #008080; font-weight: bold\">0</span>, <span style=\"color: #008080; text-decoration-color: #008080; font-weight: bold\">0</span>, <span style=\"color: #008080; text-decoration-color: #008080; font-weight: bold\">0</span>, <span style=\"color: #008080; text-decoration-color: #008080; font-weight: bold\">2</span>, <span style=\"color: #008080; text-decoration-color: #008080; font-weight: bold\">0</span>, <span style=\"color: #008080; text-decoration-color: #008080; font-weight: bold\">1</span><span style=\"font-weight: bold\">]</span>\n",
       "\n",
       "- name: Dan\n",
       "  team: bears\n",
       "  goals: <span style=\"font-weight: bold\">[</span><span style=\"color: #008080; text-decoration-color: #008080; font-weight: bold\">0</span>, <span style=\"color: #008080; text-decoration-color: #008080; font-weight: bold\">0</span>, <span style=\"color: #008080; text-decoration-color: #008080; font-weight: bold\">3</span>, <span style=\"color: #008080; text-decoration-color: #008080; font-weight: bold\">1</span>, <span style=\"color: #008080; text-decoration-color: #008080; font-weight: bold\">0</span>, <span style=\"color: #008080; text-decoration-color: #008080; font-weight: bold\">2</span>, <span style=\"color: #008080; text-decoration-color: #008080; font-weight: bold\">0</span>, <span style=\"color: #008080; text-decoration-color: #008080; font-weight: bold\">0</span><span style=\"font-weight: bold\">]</span>\n",
       "\n",
       "- name: Brad\n",
       "  team: bears\n",
       "  goals: <span style=\"font-weight: bold\">[</span><span style=\"color: #008080; text-decoration-color: #008080; font-weight: bold\">0</span>, <span style=\"color: #008080; text-decoration-color: #008080; font-weight: bold\">0</span>, <span style=\"color: #008080; text-decoration-color: #008080; font-weight: bold\">4</span>, <span style=\"color: #008080; text-decoration-color: #008080; font-weight: bold\">0</span>, <span style=\"color: #008080; text-decoration-color: #008080; font-weight: bold\">0</span>, <span style=\"color: #008080; text-decoration-color: #008080; font-weight: bold\">1</span><span style=\"font-weight: bold\">]</span>\n",
       "\n",
       "- name: Nancy\n",
       "  team: tigers\n",
       "  goals: <span style=\"font-weight: bold\">[</span><span style=\"color: #008080; text-decoration-color: #008080; font-weight: bold\">0</span>, <span style=\"color: #008080; text-decoration-color: #008080; font-weight: bold\">0</span>, <span style=\"color: #008080; text-decoration-color: #008080; font-weight: bold\">1</span>, <span style=\"color: #008080; text-decoration-color: #008080; font-weight: bold\">1</span>, <span style=\"color: #008080; text-decoration-color: #008080; font-weight: bold\">1</span>, <span style=\"color: #008080; text-decoration-color: #008080; font-weight: bold\">1</span>, <span style=\"color: #008080; text-decoration-color: #008080; font-weight: bold\">0</span><span style=\"font-weight: bold\">]</span>\n",
       "\n",
       "- name: Lance\n",
       "  team: bears\n",
       "  goals: <span style=\"font-weight: bold\">[</span><span style=\"color: #008080; text-decoration-color: #008080; font-weight: bold\">1</span>, <span style=\"color: #008080; text-decoration-color: #008080; font-weight: bold\">1</span>, <span style=\"color: #008080; text-decoration-color: #008080; font-weight: bold\">1</span>, <span style=\"color: #008080; text-decoration-color: #008080; font-weight: bold\">1</span>, <span style=\"color: #008080; text-decoration-color: #008080; font-weight: bold\">1</span><span style=\"font-weight: bold\">]</span>\n",
       "\n",
       "- name: Sara\n",
       "  team: tigers\n",
       "  goals: <span style=\"font-weight: bold\">[</span><span style=\"color: #008080; text-decoration-color: #008080; font-weight: bold\">0</span>, <span style=\"color: #008080; text-decoration-color: #008080; font-weight: bold\">1</span>, <span style=\"color: #008080; text-decoration-color: #008080; font-weight: bold\">0</span>, <span style=\"color: #008080; text-decoration-color: #008080; font-weight: bold\">2</span>, <span style=\"color: #008080; text-decoration-color: #008080; font-weight: bold\">0</span>, <span style=\"color: #008080; text-decoration-color: #008080; font-weight: bold\">3</span><span style=\"font-weight: bold\">]</span>\n",
       "\n",
       "- name: Ryan\n",
       "  team: tigers\n",
       "  goals: <span style=\"font-weight: bold\">[</span><span style=\"color: #008080; text-decoration-color: #008080; font-weight: bold\">1</span>, <span style=\"color: #008080; text-decoration-color: #008080; font-weight: bold\">2</span>, <span style=\"color: #008080; text-decoration-color: #008080; font-weight: bold\">3</span>, <span style=\"color: #008080; text-decoration-color: #008080; font-weight: bold\">0</span>, <span style=\"color: #008080; text-decoration-color: #008080; font-weight: bold\">0</span>, <span style=\"color: #008080; text-decoration-color: #008080; font-weight: bold\">0</span>, <span style=\"color: #008080; text-decoration-color: #008080; font-weight: bold\">0</span><span style=\"font-weight: bold\">]</span>\n",
       "\n",
       "\n",
       "</pre>\n"
      ],
      "text/plain": [
       "\n",
       "- name: Bob\n",
       "  team: tigers\n",
       "  goals: \u001b[1m[\u001b[0m\u001b[1;36m0\u001b[0m, \u001b[1;36m0\u001b[0m, \u001b[1;36m0\u001b[0m, \u001b[1;36m1\u001b[0m, \u001b[1;36m2\u001b[0m, \u001b[1;36m0\u001b[0m, \u001b[1;36m1\u001b[0m\u001b[1m]\u001b[0m\n",
       "\n",
       "- name: Alice\n",
       "  team: bears\n",
       "  goals: \u001b[1m[\u001b[0m\u001b[1;36m3\u001b[0m, \u001b[1;36m2\u001b[0m, \u001b[1;36m1\u001b[0m, \u001b[1;36m0\u001b[0m, \u001b[1;36m1\u001b[0m\u001b[1m]\u001b[0m\n",
       "\n",
       "- name: Jack\n",
       "  team: bears\n",
       "  goals: \u001b[1m[\u001b[0m\u001b[1;36m0\u001b[0m, \u001b[1;36m0\u001b[0m, \u001b[1;36m0\u001b[0m, \u001b[1;36m0\u001b[0m, \u001b[1;36m0\u001b[0m, \u001b[1;36m0\u001b[0m, \u001b[1;36m0\u001b[0m, \u001b[1;36m0\u001b[0m, \u001b[1;36m1\u001b[0m\u001b[1m]\u001b[0m\n",
       "\n",
       "- name: Jill\n",
       "  team: bears\n",
       "  goals: \u001b[1m[\u001b[0m\u001b[1;36m3\u001b[0m, \u001b[1;36m0\u001b[0m, \u001b[1;36m2\u001b[0m\u001b[1m]\u001b[0m\n",
       "\n",
       "- name: Ted\n",
       "  team: tigers\n",
       "  goals: \u001b[1m[\u001b[0m\u001b[1;36m0\u001b[0m, \u001b[1;36m0\u001b[0m, \u001b[1;36m0\u001b[0m, \u001b[1;36m0\u001b[0m, \u001b[1;36m0\u001b[0m\u001b[1m]\u001b[0m\n",
       "\n",
       "- name: Ellen\n",
       "  team: tigers\n",
       "  goals: \u001b[1m[\u001b[0m\u001b[1;36m1\u001b[0m, \u001b[1;36m0\u001b[0m, \u001b[1;36m0\u001b[0m, \u001b[1;36m0\u001b[0m, \u001b[1;36m2\u001b[0m, \u001b[1;36m0\u001b[0m, \u001b[1;36m1\u001b[0m\u001b[1m]\u001b[0m\n",
       "\n",
       "- name: Dan\n",
       "  team: bears\n",
       "  goals: \u001b[1m[\u001b[0m\u001b[1;36m0\u001b[0m, \u001b[1;36m0\u001b[0m, \u001b[1;36m3\u001b[0m, \u001b[1;36m1\u001b[0m, \u001b[1;36m0\u001b[0m, \u001b[1;36m2\u001b[0m, \u001b[1;36m0\u001b[0m, \u001b[1;36m0\u001b[0m\u001b[1m]\u001b[0m\n",
       "\n",
       "- name: Brad\n",
       "  team: bears\n",
       "  goals: \u001b[1m[\u001b[0m\u001b[1;36m0\u001b[0m, \u001b[1;36m0\u001b[0m, \u001b[1;36m4\u001b[0m, \u001b[1;36m0\u001b[0m, \u001b[1;36m0\u001b[0m, \u001b[1;36m1\u001b[0m\u001b[1m]\u001b[0m\n",
       "\n",
       "- name: Nancy\n",
       "  team: tigers\n",
       "  goals: \u001b[1m[\u001b[0m\u001b[1;36m0\u001b[0m, \u001b[1;36m0\u001b[0m, \u001b[1;36m1\u001b[0m, \u001b[1;36m1\u001b[0m, \u001b[1;36m1\u001b[0m, \u001b[1;36m1\u001b[0m, \u001b[1;36m0\u001b[0m\u001b[1m]\u001b[0m\n",
       "\n",
       "- name: Lance\n",
       "  team: bears\n",
       "  goals: \u001b[1m[\u001b[0m\u001b[1;36m1\u001b[0m, \u001b[1;36m1\u001b[0m, \u001b[1;36m1\u001b[0m, \u001b[1;36m1\u001b[0m, \u001b[1;36m1\u001b[0m\u001b[1m]\u001b[0m\n",
       "\n",
       "- name: Sara\n",
       "  team: tigers\n",
       "  goals: \u001b[1m[\u001b[0m\u001b[1;36m0\u001b[0m, \u001b[1;36m1\u001b[0m, \u001b[1;36m0\u001b[0m, \u001b[1;36m2\u001b[0m, \u001b[1;36m0\u001b[0m, \u001b[1;36m3\u001b[0m\u001b[1m]\u001b[0m\n",
       "\n",
       "- name: Ryan\n",
       "  team: tigers\n",
       "  goals: \u001b[1m[\u001b[0m\u001b[1;36m1\u001b[0m, \u001b[1;36m2\u001b[0m, \u001b[1;36m3\u001b[0m, \u001b[1;36m0\u001b[0m, \u001b[1;36m0\u001b[0m, \u001b[1;36m0\u001b[0m, \u001b[1;36m0\u001b[0m\u001b[1m]\u001b[0m\n",
       "\n",
       "\n"
      ]
     },
     "metadata": {},
     "output_type": "display_data"
    }
   ],
   "source": [
    "print(data)"
   ]
  },
  {
   "cell_type": "markdown",
   "id": "56f7c0b5-693c-418b-9cee-cb85904e290b",
   "metadata": {},
   "source": [
    "We'll load it into a dictionary and then convert it into an Awkward Array:"
   ]
  },
  {
   "cell_type": "code",
   "execution_count": 18,
   "id": "101d69c2-6d37-4994-9afc-6c197041a2c3",
   "metadata": {},
   "outputs": [],
   "source": [
    "import yaml\n",
    "\n",
    "data = yaml.load(data, Loader=yaml.SafeLoader)\n",
    "data = ak.Array(data)"
   ]
  },
  {
   "cell_type": "code",
   "execution_count": 19,
   "id": "3578b97d-aa57-4c5a-8a83-6f8107cdf7fa",
   "metadata": {},
   "outputs": [
    {
     "data": {
      "text/html": [
       "<pre>[{name: &#x27;Bob&#x27;, team: &#x27;tigers&#x27;, goals: [0, 0, ..., 0, 1]},\n",
       " {name: &#x27;Alice&#x27;, team: &#x27;bears&#x27;, goals: [3, 2, ..., 0, 1]},\n",
       " {name: &#x27;Jack&#x27;, team: &#x27;bears&#x27;, goals: [0, 0, ..., 0, 1]},\n",
       " {name: &#x27;Jill&#x27;, team: &#x27;bears&#x27;, goals: [3, 0, 2]},\n",
       " {name: &#x27;Ted&#x27;, team: &#x27;tigers&#x27;, goals: [0, 0, ..., 0, 0]},\n",
       " {name: &#x27;Ellen&#x27;, team: &#x27;tigers&#x27;, goals: [1, 0, ..., 0, 1]},\n",
       " {name: &#x27;Dan&#x27;, team: &#x27;bears&#x27;, goals: [0, 0, ..., 0, 0]},\n",
       " {name: &#x27;Brad&#x27;, team: &#x27;bears&#x27;, goals: [0, 0, ..., 0, 1]},\n",
       " {name: &#x27;Nancy&#x27;, team: &#x27;tigers&#x27;, goals: [0, 0, ..., 1, 0]},\n",
       " {name: &#x27;Lance&#x27;, team: &#x27;bears&#x27;, goals: [1, 1, ..., 1, 1]},\n",
       " {name: &#x27;Sara&#x27;, team: &#x27;tigers&#x27;, goals: [0, 1, ..., 0, 3]},\n",
       " {name: &#x27;Ryan&#x27;, team: &#x27;tigers&#x27;, goals: [1, 2, ..., 0, 0]}]\n",
       "-----------------------------------------------------------\n",
       "type: 12 * {\n",
       "    name: string,\n",
       "    team: string,\n",
       "    goals: var * int64\n",
       "}</pre>"
      ],
      "text/plain": [
       "<Array [{name: 'Bob', team: ..., ...}, ...] type='12 * {name: string, team:...'>"
      ]
     },
     "execution_count": 19,
     "metadata": {},
     "output_type": "execute_result"
    }
   ],
   "source": [
    "data"
   ]
  },
  {
   "cell_type": "code",
   "execution_count": 20,
   "id": "9f1d3d29-c0e3-4b15-936e-193b776ec38c",
   "metadata": {},
   "outputs": [],
   "source": [
    "s = akpd.from_awkward(data)"
   ]
  },
  {
   "cell_type": "markdown",
   "id": "4bdaf488-1ab9-4c8c-8e0d-4ecc47aaa00a",
   "metadata": {},
   "source": [
    "The dataset in Awkward Array form as three fields:"
   ]
  },
  {
   "cell_type": "code",
   "execution_count": 21,
   "id": "1523d07b-3a98-490b-967c-a629f2af61ca",
   "metadata": {},
   "outputs": [
    {
     "data": {
      "text/plain": [
       "['name', 'team', 'goals']"
      ]
     },
     "execution_count": 21,
     "metadata": {},
     "output_type": "execute_result"
    }
   ],
   "source": [
    "data.fields"
   ]
  },
  {
   "cell_type": "markdown",
   "id": "d60887e8-582b-474f-a79f-173bc62c4bd1",
   "metadata": {},
   "source": [
    "We can expand the Series into a DataFrame using the accessor's `to_columns` method, where simple (non-nested or variable length) types are given their own column:"
   ]
  },
  {
   "cell_type": "code",
   "execution_count": 22,
   "id": "5139d4fd-c967-4a07-9734-8a235490c6f0",
   "metadata": {},
   "outputs": [
    {
     "data": {
      "text/html": [
       "<div>\n",
       "<style scoped>\n",
       "    .dataframe tbody tr th:only-of-type {\n",
       "        vertical-align: middle;\n",
       "    }\n",
       "\n",
       "    .dataframe tbody tr th {\n",
       "        vertical-align: top;\n",
       "    }\n",
       "\n",
       "    .dataframe thead th {\n",
       "        text-align: right;\n",
       "    }\n",
       "</style>\n",
       "<table border=\"1\" class=\"dataframe\">\n",
       "  <thead>\n",
       "    <tr style=\"text-align: right;\">\n",
       "      <th></th>\n",
       "      <th>name</th>\n",
       "      <th>team</th>\n",
       "      <th>awkward-data</th>\n",
       "    </tr>\n",
       "  </thead>\n",
       "  <tbody>\n",
       "    <tr>\n",
       "      <th>0</th>\n",
       "      <td>Bob</td>\n",
       "      <td>tigers</td>\n",
       "      <td>{'goals': [0, 0, 0, 1, 2, 0, 1]}</td>\n",
       "    </tr>\n",
       "    <tr>\n",
       "      <th>1</th>\n",
       "      <td>Alice</td>\n",
       "      <td>bears</td>\n",
       "      <td>{'goals': [3, 2, 1, 0, 1]}</td>\n",
       "    </tr>\n",
       "    <tr>\n",
       "      <th>2</th>\n",
       "      <td>Jack</td>\n",
       "      <td>bears</td>\n",
       "      <td>{'goals': [0, 0, 0, 0, 0, 0, 0, 0, 1]}</td>\n",
       "    </tr>\n",
       "    <tr>\n",
       "      <th>3</th>\n",
       "      <td>Jill</td>\n",
       "      <td>bears</td>\n",
       "      <td>{'goals': [3, 0, 2]}</td>\n",
       "    </tr>\n",
       "    <tr>\n",
       "      <th>4</th>\n",
       "      <td>Ted</td>\n",
       "      <td>tigers</td>\n",
       "      <td>{'goals': [0, 0, 0, 0, 0]}</td>\n",
       "    </tr>\n",
       "    <tr>\n",
       "      <th>5</th>\n",
       "      <td>Ellen</td>\n",
       "      <td>tigers</td>\n",
       "      <td>{'goals': [1, 0, 0, 0, 2, 0, 1]}</td>\n",
       "    </tr>\n",
       "    <tr>\n",
       "      <th>6</th>\n",
       "      <td>Dan</td>\n",
       "      <td>bears</td>\n",
       "      <td>{'goals': [0, 0, 3, 1, 0, 2, 0, 0]}</td>\n",
       "    </tr>\n",
       "    <tr>\n",
       "      <th>7</th>\n",
       "      <td>Brad</td>\n",
       "      <td>bears</td>\n",
       "      <td>{'goals': [0, 0, 4, 0, 0, 1]}</td>\n",
       "    </tr>\n",
       "    <tr>\n",
       "      <th>8</th>\n",
       "      <td>Nancy</td>\n",
       "      <td>tigers</td>\n",
       "      <td>{'goals': [0, 0, 1, 1, 1, 1, 0]}</td>\n",
       "    </tr>\n",
       "    <tr>\n",
       "      <th>9</th>\n",
       "      <td>Lance</td>\n",
       "      <td>bears</td>\n",
       "      <td>{'goals': [1, 1, 1, 1, 1]}</td>\n",
       "    </tr>\n",
       "    <tr>\n",
       "      <th>10</th>\n",
       "      <td>Sara</td>\n",
       "      <td>tigers</td>\n",
       "      <td>{'goals': [0, 1, 0, 2, 0, 3]}</td>\n",
       "    </tr>\n",
       "    <tr>\n",
       "      <th>11</th>\n",
       "      <td>Ryan</td>\n",
       "      <td>tigers</td>\n",
       "      <td>{'goals': [1, 2, 3, 0, 0, 0, 0]}</td>\n",
       "    </tr>\n",
       "  </tbody>\n",
       "</table>\n",
       "</div>"
      ],
      "text/plain": [
       "     name    team                            awkward-data\n",
       "0     Bob  tigers        {'goals': [0, 0, 0, 1, 2, 0, 1]}\n",
       "1   Alice   bears              {'goals': [3, 2, 1, 0, 1]}\n",
       "2    Jack   bears  {'goals': [0, 0, 0, 0, 0, 0, 0, 0, 1]}\n",
       "3    Jill   bears                    {'goals': [3, 0, 2]}\n",
       "4     Ted  tigers              {'goals': [0, 0, 0, 0, 0]}\n",
       "5   Ellen  tigers        {'goals': [1, 0, 0, 0, 2, 0, 1]}\n",
       "6     Dan   bears     {'goals': [0, 0, 3, 1, 0, 2, 0, 0]}\n",
       "7    Brad   bears           {'goals': [0, 0, 4, 0, 0, 1]}\n",
       "8   Nancy  tigers        {'goals': [0, 0, 1, 1, 1, 1, 0]}\n",
       "9   Lance   bears              {'goals': [1, 1, 1, 1, 1]}\n",
       "10   Sara  tigers           {'goals': [0, 1, 0, 2, 0, 3]}\n",
       "11   Ryan  tigers        {'goals': [1, 2, 3, 0, 0, 0, 0]}"
      ]
     },
     "execution_count": 22,
     "metadata": {},
     "output_type": "execute_result"
    }
   ],
   "source": [
    "s.ak.to_columns()"
   ]
  },
  {
   "cell_type": "markdown",
   "id": "20abd210-ee29-4fac-9c9c-73a33eedfdbd",
   "metadata": {},
   "source": [
    "Notice that the `name` and `team` columns were just strings, one entry per element of the array. These have been turned into their own individual columns. The `goals` field was a variable length list, so it remained an `awkward` type and is stored in a column with the default name \"awkward-data\".\n",
    "\n",
    "`to_columns` has an `extract_all` argument that is `False` by default. If we set the argument to `True`, then all columns are extracted:"
   ]
  },
  {
   "cell_type": "code",
   "execution_count": 23,
   "id": "26c4250a-d7e0-42d0-a818-b5aee43b12fe",
   "metadata": {},
   "outputs": [],
   "source": [
    "df = s.ak.to_columns(extract_all=True)"
   ]
  },
  {
   "cell_type": "code",
   "execution_count": 24,
   "id": "dcdbb12c-4bcf-401b-abd9-17fe92787385",
   "metadata": {},
   "outputs": [
    {
     "data": {
      "text/html": [
       "<div>\n",
       "<style scoped>\n",
       "    .dataframe tbody tr th:only-of-type {\n",
       "        vertical-align: middle;\n",
       "    }\n",
       "\n",
       "    .dataframe tbody tr th {\n",
       "        vertical-align: top;\n",
       "    }\n",
       "\n",
       "    .dataframe thead th {\n",
       "        text-align: right;\n",
       "    }\n",
       "</style>\n",
       "<table border=\"1\" class=\"dataframe\">\n",
       "  <thead>\n",
       "    <tr style=\"text-align: right;\">\n",
       "      <th></th>\n",
       "      <th>name</th>\n",
       "      <th>team</th>\n",
       "      <th>goals</th>\n",
       "    </tr>\n",
       "  </thead>\n",
       "  <tbody>\n",
       "    <tr>\n",
       "      <th>0</th>\n",
       "      <td>Bob</td>\n",
       "      <td>tigers</td>\n",
       "      <td>[0, 0, 0, 1, 2, 0, 1]</td>\n",
       "    </tr>\n",
       "    <tr>\n",
       "      <th>1</th>\n",
       "      <td>Alice</td>\n",
       "      <td>bears</td>\n",
       "      <td>[3, 2, 1, 0, 1]</td>\n",
       "    </tr>\n",
       "    <tr>\n",
       "      <th>2</th>\n",
       "      <td>Jack</td>\n",
       "      <td>bears</td>\n",
       "      <td>[0, 0, 0, 0, 0, 0, 0, 0, 1]</td>\n",
       "    </tr>\n",
       "    <tr>\n",
       "      <th>3</th>\n",
       "      <td>Jill</td>\n",
       "      <td>bears</td>\n",
       "      <td>[3, 0, 2]</td>\n",
       "    </tr>\n",
       "    <tr>\n",
       "      <th>4</th>\n",
       "      <td>Ted</td>\n",
       "      <td>tigers</td>\n",
       "      <td>[0, 0, 0, 0, 0]</td>\n",
       "    </tr>\n",
       "    <tr>\n",
       "      <th>5</th>\n",
       "      <td>Ellen</td>\n",
       "      <td>tigers</td>\n",
       "      <td>[1, 0, 0, 0, 2, 0, 1]</td>\n",
       "    </tr>\n",
       "    <tr>\n",
       "      <th>6</th>\n",
       "      <td>Dan</td>\n",
       "      <td>bears</td>\n",
       "      <td>[0, 0, 3, 1, 0, 2, 0, 0]</td>\n",
       "    </tr>\n",
       "    <tr>\n",
       "      <th>7</th>\n",
       "      <td>Brad</td>\n",
       "      <td>bears</td>\n",
       "      <td>[0, 0, 4, 0, 0, 1]</td>\n",
       "    </tr>\n",
       "    <tr>\n",
       "      <th>8</th>\n",
       "      <td>Nancy</td>\n",
       "      <td>tigers</td>\n",
       "      <td>[0, 0, 1, 1, 1, 1, 0]</td>\n",
       "    </tr>\n",
       "    <tr>\n",
       "      <th>9</th>\n",
       "      <td>Lance</td>\n",
       "      <td>bears</td>\n",
       "      <td>[1, 1, 1, 1, 1]</td>\n",
       "    </tr>\n",
       "    <tr>\n",
       "      <th>10</th>\n",
       "      <td>Sara</td>\n",
       "      <td>tigers</td>\n",
       "      <td>[0, 1, 0, 2, 0, 3]</td>\n",
       "    </tr>\n",
       "    <tr>\n",
       "      <th>11</th>\n",
       "      <td>Ryan</td>\n",
       "      <td>tigers</td>\n",
       "      <td>[1, 2, 3, 0, 0, 0, 0]</td>\n",
       "    </tr>\n",
       "  </tbody>\n",
       "</table>\n",
       "</div>"
      ],
      "text/plain": [
       "     name    team                        goals\n",
       "0     Bob  tigers        [0, 0, 0, 1, 2, 0, 1]\n",
       "1   Alice   bears              [3, 2, 1, 0, 1]\n",
       "2    Jack   bears  [0, 0, 0, 0, 0, 0, 0, 0, 1]\n",
       "3    Jill   bears                    [3, 0, 2]\n",
       "4     Ted  tigers              [0, 0, 0, 0, 0]\n",
       "5   Ellen  tigers        [1, 0, 0, 0, 2, 0, 1]\n",
       "6     Dan   bears     [0, 0, 3, 1, 0, 2, 0, 0]\n",
       "7    Brad   bears           [0, 0, 4, 0, 0, 1]\n",
       "8   Nancy  tigers        [0, 0, 1, 1, 1, 1, 0]\n",
       "9   Lance   bears              [1, 1, 1, 1, 1]\n",
       "10   Sara  tigers           [0, 1, 0, 2, 0, 3]\n",
       "11   Ryan  tigers        [1, 2, 3, 0, 0, 0, 0]"
      ]
     },
     "execution_count": 24,
     "metadata": {},
     "output_type": "execute_result"
    }
   ],
   "source": [
    "df"
   ]
  },
  {
   "cell_type": "markdown",
   "id": "d417452d-a98f-4215-af93-05a261f49b58",
   "metadata": {},
   "source": [
    "Notice that the `goals` column is of type `awkward`"
   ]
  },
  {
   "cell_type": "code",
   "execution_count": 25,
   "id": "d1d45c51-193f-4b77-a185-8e925309c6bf",
   "metadata": {},
   "outputs": [
    {
     "data": {
      "text/plain": [
       "0           [0, 0, 0, 1, 2, 0, 1]\n",
       "1                 [3, 2, 1, 0, 1]\n",
       "2     [0, 0, 0, 0, 0, 0, 0, 0, 1]\n",
       "3                       [3, 0, 2]\n",
       "4                 [0, 0, 0, 0, 0]\n",
       "5           [1, 0, 0, 0, 2, 0, 1]\n",
       "6        [0, 0, 3, 1, 0, 2, 0, 0]\n",
       "7              [0, 0, 4, 0, 0, 1]\n",
       "8           [0, 0, 1, 1, 1, 1, 0]\n",
       "9                 [1, 1, 1, 1, 1]\n",
       "10             [0, 1, 0, 2, 0, 3]\n",
       "11          [1, 2, 3, 0, 0, 0, 0]\n",
       "Name: goals, dtype: awkward"
      ]
     },
     "execution_count": 25,
     "metadata": {},
     "output_type": "execute_result"
    }
   ],
   "source": [
    "df.goals"
   ]
  },
  {
   "cell_type": "markdown",
   "id": "494081c8-21e4-4228-8010-b1bdf7563c47",
   "metadata": {},
   "source": [
    "We can use pure Pandas to investigate the dataset, but since Pandas doesn't have a builtin ability to handle the nested structure of our `goals` column, we're limited to some coarse information.\n",
    "\n",
    "For example, we can group by the team and see the average number of goals _total_ goals scored:"
   ]
  },
  {
   "cell_type": "code",
   "execution_count": 26,
   "id": "303ae554-a27e-4bd2-a754-689de1f00db3",
   "metadata": {},
   "outputs": [
    {
     "data": {
      "text/html": [
       "<div>\n",
       "<style scoped>\n",
       "    .dataframe tbody tr th:only-of-type {\n",
       "        vertical-align: middle;\n",
       "    }\n",
       "\n",
       "    .dataframe tbody tr th {\n",
       "        vertical-align: top;\n",
       "    }\n",
       "\n",
       "    .dataframe thead th {\n",
       "        text-align: right;\n",
       "    }\n",
       "</style>\n",
       "<table border=\"1\" class=\"dataframe\">\n",
       "  <thead>\n",
       "    <tr style=\"text-align: right;\">\n",
       "      <th></th>\n",
       "      <th>goals</th>\n",
       "    </tr>\n",
       "    <tr>\n",
       "      <th>team</th>\n",
       "      <th></th>\n",
       "    </tr>\n",
       "  </thead>\n",
       "  <tbody>\n",
       "    <tr>\n",
       "      <th>bears</th>\n",
       "      <td>0.805556</td>\n",
       "    </tr>\n",
       "    <tr>\n",
       "      <th>tigers</th>\n",
       "      <td>0.615385</td>\n",
       "    </tr>\n",
       "  </tbody>\n",
       "</table>\n",
       "</div>"
      ],
      "text/plain": [
       "           goals\n",
       "team            \n",
       "bears   0.805556\n",
       "tigers  0.615385"
      ]
     },
     "execution_count": 26,
     "metadata": {},
     "output_type": "execute_result"
    }
   ],
   "source": [
    "df.set_index(\"name\") \\\n",
    "  .groupby(\"team\", group_keys=True) \\\n",
    "  .mean(numeric_only=True)"
   ]
  },
  {
   "cell_type": "markdown",
   "id": "37bcc2b2-575d-41d4-b482-80d454fc67b5",
   "metadata": {},
   "source": [
    "But with awkward, we can group by the team name and see the average number of goals scored by _each player_:"
   ]
  },
  {
   "cell_type": "code",
   "execution_count": 27,
   "id": "350b5b98-e91c-475d-b5f5-5fc7bda73194",
   "metadata": {},
   "outputs": [
    {
     "data": {
      "text/plain": [
       "team    name \n",
       "bears   Jill     1.666667\n",
       "        Alice         1.4\n",
       "        Lance         1.0\n",
       "tigers  Sara          1.0\n",
       "        Ryan     0.857143\n",
       "bears   Brad     0.833333\n",
       "        Dan          0.75\n",
       "tigers  Bob      0.571429\n",
       "        Ellen    0.571429\n",
       "        Nancy    0.571429\n",
       "bears   Jack     0.111111\n",
       "tigers  Ted           0.0\n",
       "dtype: awkward"
      ]
     },
     "execution_count": 27,
     "metadata": {},
     "output_type": "execute_result"
    }
   ],
   "source": [
    "df.set_index(\"name\") \\\n",
    "  .groupby(\"team\", group_keys=True) \\\n",
    "  .apply(lambda x: x.goals.ak.mean(axis=1)) \\\n",
    "  .sort_values(ascending=False)"
   ]
  },
  {
   "cell_type": "markdown",
   "id": "c480ffeb-971b-4af8-b01e-dd6f6f868c5e",
   "metadata": {},
   "source": [
    "We can use the awkward data to determine how many games each player has appeared in:"
   ]
  },
  {
   "cell_type": "code",
   "execution_count": 28,
   "id": "a6ac5ba1-b205-4620-835e-ea3acd2a20d0",
   "metadata": {},
   "outputs": [],
   "source": [
    "df[\"n_games\"] = df.goals.ak.num(axis=1)"
   ]
  },
  {
   "cell_type": "code",
   "execution_count": 29,
   "id": "8abda5da-4214-44a1-bcab-7c9926f0ddae",
   "metadata": {},
   "outputs": [
    {
     "data": {
      "text/html": [
       "<div>\n",
       "<style scoped>\n",
       "    .dataframe tbody tr th:only-of-type {\n",
       "        vertical-align: middle;\n",
       "    }\n",
       "\n",
       "    .dataframe tbody tr th {\n",
       "        vertical-align: top;\n",
       "    }\n",
       "\n",
       "    .dataframe thead th {\n",
       "        text-align: right;\n",
       "    }\n",
       "</style>\n",
       "<table border=\"1\" class=\"dataframe\">\n",
       "  <thead>\n",
       "    <tr style=\"text-align: right;\">\n",
       "      <th></th>\n",
       "      <th>name</th>\n",
       "      <th>team</th>\n",
       "      <th>goals</th>\n",
       "      <th>n_games</th>\n",
       "    </tr>\n",
       "  </thead>\n",
       "  <tbody>\n",
       "    <tr>\n",
       "      <th>0</th>\n",
       "      <td>Bob</td>\n",
       "      <td>tigers</td>\n",
       "      <td>[0, 0, 0, 1, 2, 0, 1]</td>\n",
       "      <td>7</td>\n",
       "    </tr>\n",
       "    <tr>\n",
       "      <th>1</th>\n",
       "      <td>Alice</td>\n",
       "      <td>bears</td>\n",
       "      <td>[3, 2, 1, 0, 1]</td>\n",
       "      <td>5</td>\n",
       "    </tr>\n",
       "    <tr>\n",
       "      <th>2</th>\n",
       "      <td>Jack</td>\n",
       "      <td>bears</td>\n",
       "      <td>[0, 0, 0, 0, 0, 0, 0, 0, 1]</td>\n",
       "      <td>9</td>\n",
       "    </tr>\n",
       "    <tr>\n",
       "      <th>3</th>\n",
       "      <td>Jill</td>\n",
       "      <td>bears</td>\n",
       "      <td>[3, 0, 2]</td>\n",
       "      <td>3</td>\n",
       "    </tr>\n",
       "    <tr>\n",
       "      <th>4</th>\n",
       "      <td>Ted</td>\n",
       "      <td>tigers</td>\n",
       "      <td>[0, 0, 0, 0, 0]</td>\n",
       "      <td>5</td>\n",
       "    </tr>\n",
       "    <tr>\n",
       "      <th>5</th>\n",
       "      <td>Ellen</td>\n",
       "      <td>tigers</td>\n",
       "      <td>[1, 0, 0, 0, 2, 0, 1]</td>\n",
       "      <td>7</td>\n",
       "    </tr>\n",
       "    <tr>\n",
       "      <th>6</th>\n",
       "      <td>Dan</td>\n",
       "      <td>bears</td>\n",
       "      <td>[0, 0, 3, 1, 0, 2, 0, 0]</td>\n",
       "      <td>8</td>\n",
       "    </tr>\n",
       "    <tr>\n",
       "      <th>7</th>\n",
       "      <td>Brad</td>\n",
       "      <td>bears</td>\n",
       "      <td>[0, 0, 4, 0, 0, 1]</td>\n",
       "      <td>6</td>\n",
       "    </tr>\n",
       "    <tr>\n",
       "      <th>8</th>\n",
       "      <td>Nancy</td>\n",
       "      <td>tigers</td>\n",
       "      <td>[0, 0, 1, 1, 1, 1, 0]</td>\n",
       "      <td>7</td>\n",
       "    </tr>\n",
       "    <tr>\n",
       "      <th>9</th>\n",
       "      <td>Lance</td>\n",
       "      <td>bears</td>\n",
       "      <td>[1, 1, 1, 1, 1]</td>\n",
       "      <td>5</td>\n",
       "    </tr>\n",
       "    <tr>\n",
       "      <th>10</th>\n",
       "      <td>Sara</td>\n",
       "      <td>tigers</td>\n",
       "      <td>[0, 1, 0, 2, 0, 3]</td>\n",
       "      <td>6</td>\n",
       "    </tr>\n",
       "    <tr>\n",
       "      <th>11</th>\n",
       "      <td>Ryan</td>\n",
       "      <td>tigers</td>\n",
       "      <td>[1, 2, 3, 0, 0, 0, 0]</td>\n",
       "      <td>7</td>\n",
       "    </tr>\n",
       "  </tbody>\n",
       "</table>\n",
       "</div>"
      ],
      "text/plain": [
       "     name    team                        goals n_games\n",
       "0     Bob  tigers        [0, 0, 0, 1, 2, 0, 1]       7\n",
       "1   Alice   bears              [3, 2, 1, 0, 1]       5\n",
       "2    Jack   bears  [0, 0, 0, 0, 0, 0, 0, 0, 1]       9\n",
       "3    Jill   bears                    [3, 0, 2]       3\n",
       "4     Ted  tigers              [0, 0, 0, 0, 0]       5\n",
       "5   Ellen  tigers        [1, 0, 0, 0, 2, 0, 1]       7\n",
       "6     Dan   bears     [0, 0, 3, 1, 0, 2, 0, 0]       8\n",
       "7    Brad   bears           [0, 0, 4, 0, 0, 1]       6\n",
       "8   Nancy  tigers        [0, 0, 1, 1, 1, 1, 0]       7\n",
       "9   Lance   bears              [1, 1, 1, 1, 1]       5\n",
       "10   Sara  tigers           [0, 1, 0, 2, 0, 3]       6\n",
       "11   Ryan  tigers        [1, 2, 3, 0, 0, 0, 0]       7"
      ]
     },
     "execution_count": 29,
     "metadata": {},
     "output_type": "execute_result"
    }
   ],
   "source": [
    "df"
   ]
  },
  {
   "cell_type": "markdown",
   "id": "241d6cd9-5a4d-4c17-ac10-fa6d26d3d0f0",
   "metadata": {},
   "source": [
    "We can convert the entire dataframe back to a `Series` of type `awkward` with the `merge` function:"
   ]
  },
  {
   "cell_type": "code",
   "execution_count": 30,
   "id": "a8e4dbd9-8a77-4b4a-a05c-18621aa81ead",
   "metadata": {},
   "outputs": [],
   "source": [
    "s = akpd.merge(df)"
   ]
  },
  {
   "cell_type": "code",
   "execution_count": 31,
   "id": "4fe023c4-b36a-4e8c-bc56-486241349497",
   "metadata": {},
   "outputs": [
    {
     "data": {
      "text/plain": [
       "0     {'name': 'Bob', 'team': 'tigers', 'goals': [0,...\n",
       "1     {'name': 'Alice', 'team': 'bears', 'goals': [3...\n",
       "2     {'name': 'Jack', 'team': 'bears', 'goals': [0,...\n",
       "3     {'name': 'Jill', 'team': 'bears', 'goals': [3,...\n",
       "4     {'name': 'Ted', 'team': 'tigers', 'goals': [0,...\n",
       "5     {'name': 'Ellen', 'team': 'tigers', 'goals': [...\n",
       "6     {'name': 'Dan', 'team': 'bears', 'goals': [0, ...\n",
       "7     {'name': 'Brad', 'team': 'bears', 'goals': [0,...\n",
       "8     {'name': 'Nancy', 'team': 'tigers', 'goals': [...\n",
       "9     {'name': 'Lance', 'team': 'bears', 'goals': [1...\n",
       "10    {'name': 'Sara', 'team': 'tigers', 'goals': [0...\n",
       "11    {'name': 'Ryan', 'team': 'tigers', 'goals': [1...\n",
       "dtype: awkward"
      ]
     },
     "execution_count": 31,
     "metadata": {},
     "output_type": "execute_result"
    }
   ],
   "source": [
    "s"
   ]
  },
  {
   "cell_type": "markdown",
   "id": "e3f6d87f-d427-4ae2-b9c6-6e38f0f975a2",
   "metadata": {},
   "source": [
    "And go back to pure awkward (now with our new `n_games` column) using the accessor:"
   ]
  },
  {
   "cell_type": "code",
   "execution_count": 32,
   "id": "9fa44a70-63ee-4c4d-80eb-3e979c0337d7",
   "metadata": {},
   "outputs": [
    {
     "data": {
      "text/html": [
       "<pre>[{name: &#x27;Bob&#x27;, team: &#x27;tigers&#x27;, goals: [0, 0, ..., 0, 1], n_games: 7},\n",
       " {name: &#x27;Alice&#x27;, team: &#x27;bears&#x27;, goals: [3, 2, ..., 0, 1], n_games: 5},\n",
       " {name: &#x27;Jack&#x27;, team: &#x27;bears&#x27;, goals: [0, 0, ..., 0, 1], n_games: 9},\n",
       " {name: &#x27;Jill&#x27;, team: &#x27;bears&#x27;, goals: [3, 0, 2], n_games: 3},\n",
       " {name: &#x27;Ted&#x27;, team: &#x27;tigers&#x27;, goals: [0, 0, ..., 0, 0], n_games: 5},\n",
       " {name: &#x27;Ellen&#x27;, team: &#x27;tigers&#x27;, goals: [1, 0, ..., 0, 1], n_games: 7},\n",
       " {name: &#x27;Dan&#x27;, team: &#x27;bears&#x27;, goals: [0, 0, ..., 0, 0], n_games: 8},\n",
       " {name: &#x27;Brad&#x27;, team: &#x27;bears&#x27;, goals: [0, 0, ..., 0, 1], n_games: 6},\n",
       " {name: &#x27;Nancy&#x27;, team: &#x27;tigers&#x27;, goals: [0, 0, ..., 1, 0], n_games: 7},\n",
       " {name: &#x27;Lance&#x27;, team: &#x27;bears&#x27;, goals: [1, 1, ..., 1, 1], n_games: 5},\n",
       " {name: &#x27;Sara&#x27;, team: &#x27;tigers&#x27;, goals: [0, 1, ..., 0, 3], n_games: 6},\n",
       " {name: &#x27;Ryan&#x27;, team: &#x27;tigers&#x27;, goals: [1, 2, ..., 0, 0], n_games: 7}]\n",
       "-----------------------------------------------------------------------\n",
       "type: 12 * {\n",
       "    name: string,\n",
       "    team: string,\n",
       "    goals: var * int64,\n",
       "    n_games: int64\n",
       "}</pre>"
      ],
      "text/plain": [
       "<Array [{name: 'Bob', team: ..., ...}, ...] type='12 * {name: string, team:...'>"
      ]
     },
     "execution_count": 32,
     "metadata": {},
     "output_type": "execute_result"
    }
   ],
   "source": [
    "s.ak.array"
   ]
  },
  {
   "cell_type": "code",
   "execution_count": 33,
   "id": "cd165bf6-ae01-45b3-b290-3b091fc4b9e3",
   "metadata": {},
   "outputs": [
    {
     "data": {
      "text/plain": [
       "['name', 'team', 'goals', 'n_games']"
      ]
     },
     "execution_count": 33,
     "metadata": {},
     "output_type": "execute_result"
    }
   ],
   "source": [
    "s.ak.array.fields"
   ]
  },
  {
   "cell_type": "code",
   "execution_count": 34,
   "id": "bca4d5c4-5802-43f8-bc24-e59612465890",
   "metadata": {},
   "outputs": [
    {
     "data": {
      "text/html": [
       "<pre>[7,\n",
       " 5,\n",
       " 9,\n",
       " 3,\n",
       " 5,\n",
       " 7,\n",
       " 8,\n",
       " 6,\n",
       " 7,\n",
       " 5,\n",
       " 6,\n",
       " 7]\n",
       "----------------\n",
       "type: 12 * int64</pre>"
      ],
      "text/plain": [
       "<Array [7, 5, 9, 3, 5, 7, 8, 6, 7, 5, 6, 7] type='12 * int64'>"
      ]
     },
     "execution_count": 34,
     "metadata": {},
     "output_type": "execute_result"
    }
   ],
   "source": [
    "s.ak.array.n_games"
   ]
  }
 ],
 "metadata": {
  "kernelspec": {
   "display_name": "Python 3 (ipykernel)",
   "language": "python",
   "name": "python3"
  },
  "language_info": {
   "codemirror_mode": {
    "name": "ipython",
    "version": 3
   },
   "file_extension": ".py",
   "mimetype": "text/x-python",
   "name": "python",
   "nbconvert_exporter": "python",
   "pygments_lexer": "ipython3",
   "version": "3.11.4"
  }
 },
 "nbformat": 4,
 "nbformat_minor": 5
}
