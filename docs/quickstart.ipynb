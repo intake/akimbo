{
 "cells": [
  {
   "cell_type": "markdown",
   "id": "59204560",
   "metadata": {},
   "source": [
    "# Quick Start"
   ]
  },
  {
   "cell_type": "markdown",
   "id": "f52a6720",
   "metadata": {},
   "source": [
    "This first example uses `pandas`, because it remains the most popular dataframe library for python. However, exactly the same methods would be called for any of the other supported backends.\n",
    "\n",
    "Import the packages that we'll use: "
   ]
  },
  {
   "cell_type": "code",
   "execution_count": 1,
   "id": "c371c93d",
   "metadata": {},
   "outputs": [],
   "source": [
    "import awkward as ak\n",
    "import akimbo.pandas\n",
    "import pandas as pd\n",
    "import numpy as np"
   ]
  },
  {
   "cell_type": "markdown",
   "id": "62af7184",
   "metadata": {},
   "source": [
    "## Vectorizing ragged data"
   ]
  },
  {
   "cell_type": "markdown",
   "id": "199cc9d4",
   "metadata": {},
   "source": [
    "Consider a series made of python lists. This may happen a lot in ``pandas``. It is also possible in other dataframe libraries, but less likely. This data is only a couple of MB big, and the simplest amount of ragged nesting imaginable."
   ]
  },
  {
   "cell_type": "code",
   "execution_count": 2,
   "id": "a4d0d2dc",
   "metadata": {},
   "outputs": [],
   "source": [
    "s = pd.Series([[1, 2, 3], [0], [4, 5]] * 100000)"
   ]
  },
  {
   "cell_type": "code",
   "execution_count": 3,
   "id": "aca61be9",
   "metadata": {},
   "outputs": [
    {
     "data": {
      "text/plain": [
       "0         [1, 2, 3]\n",
       "1               [0]\n",
       "2            [4, 5]\n",
       "3         [1, 2, 3]\n",
       "4               [0]\n",
       "            ...    \n",
       "299995          [0]\n",
       "299996       [4, 5]\n",
       "299997    [1, 2, 3]\n",
       "299998          [0]\n",
       "299999       [4, 5]\n",
       "Length: 300000, dtype: object"
      ]
     },
     "execution_count": 3,
     "metadata": {},
     "output_type": "execute_result"
    }
   ],
   "source": [
    "s"
   ]
  },
  {
   "cell_type": "markdown",
   "id": "f8bc0a8f-4716-4c28-a14b-a57455e84c8a",
   "metadata": {},
   "source": [
    "First let's do a super simple operation: get the maximum of each list. There are a number of different ways to do this, we'll comment and time several."
   ]
  },
  {
   "cell_type": "markdown",
   "id": "9a065083",
   "metadata": {},
   "source": [
    "We can put the series in a DataFrame with another built-in pandas type, e.g. a column of integers:"
   ]
  },
  {
   "cell_type": "code",
   "execution_count": null,
   "id": "59b6fc51-4863-42a9-927c-cdc7ef97e25b",
   "metadata": {},
   "outputs": [
    {
     "name": "stdout",
     "output_type": "stream",
     "text": [
      "\n",
      "numpy function\n"
     ]
    }
   ],
   "source": [
    "print(\"\\nnumpy function\")\n",
    "%timeit s.map(np.max);\n",
    "print(\"\\npython function\")\n",
    "%timeit s.map(max);\n",
    "print(\"\\ncomprehension/iteration\")\n",
    "%timeit [max(_) for _ in s];\n",
    "print(\"\\nak with conversion\")\n",
    "%timeit s.ak.max(axis=1);\n",
    "print(\"\\nak after conversion\")\n",
    "s2 = s.ak.to_output()\n",
    "%timeit s2.ak.max(axis=1)"
   ]
  },
  {
   "cell_type": "markdown",
   "id": "8f60fd45-8f5a-4900-9f45-2b66b457310c",
   "metadata": {},
   "source": [
    "Some interesting results!\n",
    "- numpy is terrible at this, where most of the cost is converting the lists to arrays. numpy is not esigned for tiny arrays\n",
    "- using builting python functions and iteraction is OK when the data size isn't too big; this doesn't scale to millions of elements or lists-of-lists\n",
    "- sometimes you can shave off runtime when you ignore the index; both ak versions maintain the index\n",
    "- ak is just as fast even accounting for converting the data; but if the data is already in optimized form (which also uses less memory), ak is **much** faster than any other method. There is no equivalent numpy representation of the data."
   ]
  },
  {
   "cell_type": "markdown",
   "id": "179f068f-1a1e-4331-860a-3fca1b07f51b",
   "metadata": {},
   "source": [
    "**NOTE**:\n",
    " Pandas supports arrow storage of data such as this, and some IO functions can create it\n",
    "without intermediate python objects with the argument dtype_backend=\"pyarrow\". For dask,\n",
    "arrow is already the default, but object are still common, and for polars and cuDF,\n",
    "arrow is the only storage available, so you are guaranteed fast operations.\n"
   ]
  },
  {
   "cell_type": "markdown",
   "id": "a2fc3169-bf85-431c-84fe-18bc78ca656e",
   "metadata": {},
   "source": [
    "### Nested records\n",
    "\n",
    "Let's look at a tiny example of nested record-oriented data. "
   ]
  },
  {
   "cell_type": "markdown",
   "id": "603472af-68c7-49cf-afd1-cbbf6aadb00e",
   "metadata": {},
   "source": [
    "This small fake sports dataset contains some players names, their team, and how many goals they've scored in some variable number of games that they've appeared in.\n",
    "\n",
    "\n",
    "The raw data:"
   ]
  },
  {
   "cell_type": "code",
   "execution_count": null,
   "id": "65c9764d-ce9a-4330-8dd6-49d185c1232c",
   "metadata": {},
   "outputs": [],
   "source": [
    "text = \"\"\"- name: Bob\\n  team: tigers\\n  goals: [0, 0, 0, 1, 2, 0, 1]\\n\\n- name: Alice\\n  team: bears\\n  goals: [3, 2, 1, 0, 1]\\n\\n- name: Jack\\n  team: bears\\n  goals: [0, 0, 0, 0, 0, 0, 0, 0, 1]\\n\\n- name: Jill\\n  team: bears\\n  goals: [3, 0, 2]\\n\\n- name: Ted\\n  team: tigers\\n  goals: [0, 0, 0, 0, 0]\\n\\n- name: Ellen\\n  team: tigers\\n  goals: [1, 0, 0, 0, 2, 0, 1]\\n\\n- name: Dan\\n  team: bears\\n  goals: [0, 0, 3, 1, 0, 2, 0, 0]\\n\\n- name: Brad\\n  team: bears\\n  goals: [0, 0, 4, 0, 0, 1]\\n\\n- name: Nancy\\n  team: tigers\\n  goals: [0, 0, 1, 1, 1, 1, 0]\\n\\n- name: Lance\\n  team: bears\\n  goals: [1, 1, 1, 1, 1]\\n\\n- name: Sara\\n  team: tigers\\n  goals: [0, 1, 0, 2, 0, 3]\\n\\n- name: Ryan\\n  team: tigers\\n  goals: [1, 2, 3, 0, 0, 0, 0]\\n\"\"\""
   ]
  },
  {
   "cell_type": "markdown",
   "id": "0a016204-e2e3-43e4-805f-f923967696a9",
   "metadata": {},
   "source": [
    "This is in YAML format, so that we can include it in a single line. Notice that YAML allows us to see the nesting and variable-length of the data clearly. \n",
    "The data in YAML format:"
   ]
  },
  {
   "cell_type": "code",
   "execution_count": null,
   "id": "22b42724-4ca0-44cb-b2cf-a095ea00dac8",
   "metadata": {},
   "outputs": [],
   "source": [
    "print(text)"
   ]
  },
  {
   "cell_type": "markdown",
   "id": "56f7c0b5-693c-418b-9cee-cb85904e290b",
   "metadata": {},
   "source": [
    "Awkward Array happily deals with this kind of data:"
   ]
  },
  {
   "cell_type": "code",
   "execution_count": null,
   "id": "101d69c2-6d37-4994-9afc-6c197041a2c3",
   "metadata": {},
   "outputs": [],
   "source": [
    "import yaml\n",
    "\n",
    "dicts = yaml.safe_load(text)\n",
    "data = ak.Array(dicts)"
   ]
  },
  {
   "cell_type": "code",
   "execution_count": null,
   "id": "3578b97d-aa57-4c5a-8a83-6f8107cdf7fa",
   "metadata": {},
   "outputs": [],
   "source": [
    "data"
   ]
  },
  {
   "cell_type": "markdown",
   "id": "dfabb8e8-0764-4bb8-8b29-1ed60868e1a9",
   "metadata": {},
   "source": [
    "but we use `akimbo` to transform it into a Series. This will allow us to use dataframe functionality such as groupby, below."
   ]
  },
  {
   "cell_type": "code",
   "execution_count": null,
   "id": "9f1d3d29-c0e3-4b15-936e-193b776ec38c",
   "metadata": {},
   "outputs": [],
   "source": [
    "s = akimbo.pandas.PandasAwkwardAccessor._to_output(data)"
   ]
  },
  {
   "cell_type": "markdown",
   "id": "4bdaf488-1ab9-4c8c-8e0d-4ecc47aaa00a",
   "metadata": {},
   "source": [
    "The dataset in Awkward Array form as three fields: \"name\", \"team\" and \"goals\""
   ]
  },
  {
   "cell_type": "markdown",
   "id": "d60887e8-582b-474f-a79f-173bc62c4bd1",
   "metadata": {},
   "source": [
    "Of these, two are \"normal\" fields - they can be made into dataframe columns containing no nesting. To unwrap the top record-like structure of the data, we can use ``unmerge``."
   ]
  },
  {
   "cell_type": "code",
   "execution_count": null,
   "id": "5139d4fd-c967-4a07-9734-8a235490c6f0",
   "metadata": {},
   "outputs": [],
   "source": [
    "df = s.ak.unmerge()\n",
    "df"
   ]
  },
  {
   "cell_type": "markdown",
   "id": "494081c8-21e4-4228-8010-b1bdf7563c47",
   "metadata": {},
   "source": [
    "We can use pure Pandas to investigate the dataset, but since Pandas doesn't have a builtin ability to handle the nested structure of our `goals` column, we're limited to some coarse information.\n",
    "\n",
    "For example, we can group by the team and see the average number of goals _total_ goals scored. Here we use the ``.ak`` accessor _on each group_, to be able to do arithmetic on the variable-length data, but while maintaining the pandas index."
   ]
  },
  {
   "cell_type": "code",
   "execution_count": null,
   "id": "350b5b98-e91c-475d-b5f5-5fc7bda73194",
   "metadata": {},
   "outputs": [],
   "source": [
    "df.set_index(\"name\") \\\n",
    "  .groupby(\"team\", group_keys=True) \\\n",
    "  .apply(lambda x: x.goals.ak.mean(axis=1)) \\\n",
    "  .sort_values(ascending=False)"
   ]
  },
  {
   "cell_type": "markdown",
   "id": "c480ffeb-971b-4af8-b01e-dd6f6f868c5e",
   "metadata": {},
   "source": [
    "Determine how many games each player has appeared in is simpler, using a direct method:"
   ]
  },
  {
   "cell_type": "code",
   "execution_count": null,
   "id": "a6ac5ba1-b205-4620-835e-ea3acd2a20d0",
   "metadata": {},
   "outputs": [],
   "source": [
    "df[\"n_games\"] = df.goals.ak.num(axis=1)"
   ]
  },
  {
   "cell_type": "code",
   "execution_count": null,
   "id": "8abda5da-4214-44a1-bcab-7c9926f0ddae",
   "metadata": {},
   "outputs": [],
   "source": [
    "df"
   ]
  },
  {
   "cell_type": "markdown",
   "id": "241d6cd9-5a4d-4c17-ac10-fa6d26d3d0f0",
   "metadata": {},
   "source": [
    "We can also convert the entire dataframe (any dataframe, in fact) back to a `Series`, which is convenient if we want to drop down to the Awkward library for further operations."
   ]
  },
  {
   "cell_type": "code",
   "execution_count": null,
   "id": "a8e4dbd9-8a77-4b4a-a05c-18621aa81ead",
   "metadata": {},
   "outputs": [],
   "source": [
    "s = df.ak.merge()"
   ]
  },
  {
   "cell_type": "code",
   "execution_count": null,
   "id": "4fe023c4-b36a-4e8c-bc56-486241349497",
   "metadata": {},
   "outputs": [],
   "source": [
    "s  # look at that complex dtype!"
   ]
  },
  {
   "cell_type": "markdown",
   "id": "e3f6d87f-d427-4ae2-b9c6-6e38f0f975a2",
   "metadata": {},
   "source": [
    "And go back to pure awkward (now with our new `n_games` column) using the accessor:"
   ]
  },
  {
   "cell_type": "code",
   "execution_count": null,
   "id": "9fa44a70-63ee-4c4d-80eb-3e979c0337d7",
   "metadata": {},
   "outputs": [],
   "source": [
    "s.ak.array"
   ]
  },
  {
   "cell_type": "code",
   "execution_count": null,
   "id": "cd165bf6-ae01-45b3-b290-3b091fc4b9e3",
   "metadata": {},
   "outputs": [],
   "source": [
    "s.ak.array.fields"
   ]
  },
  {
   "cell_type": "code",
   "execution_count": null,
   "id": "bca4d5c4-5802-43f8-bc24-e59612465890",
   "metadata": {},
   "outputs": [],
   "source": [
    "# as series\n",
    "s.ak[\"n_games\"]"
   ]
  },
  {
   "cell_type": "code",
   "execution_count": null,
   "id": "7efeb90b-6395-4b70-9134-1cd4842876ae",
   "metadata": {},
   "outputs": [],
   "source": [
    "# as awkward\n",
    "s.ak.array[\"n_games\"]"
   ]
  },
  {
   "cell_type": "markdown",
   "id": "97aa0ac7-f1d5-4344-ae2c-72f617ededea",
   "metadata": {},
   "source": [
    "### Behaviours\n",
    "\n",
    "Let's take an example from upsrteam documentation: vectors are made of two fields, `(x, y)`. We know that adding and the the size of a vector are easily expressed. Let's encode this in a class and apply it to data in a dataframe."
   ]
  },
  {
   "cell_type": "code",
   "execution_count": null,
   "id": "4620a04a-e719-4b34-b633-0325b9121e25",
   "metadata": {},
   "outputs": [],
   "source": [
    "from akimbo import mixin_class, mixin_class_method, behavior\n",
    "import akimbo.pandas\n",
    "import numpy as np\n",
    "import pandas as pd\n",
    "\n",
    "\n",
    "@mixin_class(behavior)\n",
    "class Point:\n",
    "\n",
    "    @mixin_class_method(np.abs)\n",
    "    def point_abs(self):\n",
    "        return np.sqrt(self.x ** 2 + self.y ** 2)\n",
    "\n",
    "    @mixin_class_method(np.add, {\"*\"})\n",
    "    def point_add(self, other):\n",
    "        return ak.zip(\n",
    "            {\"x\": self.x + other.x, \"y\": self.y + other.y}, with_name=\"Point\",\n",
    "        )"
   ]
  },
  {
   "cell_type": "code",
   "execution_count": null,
   "id": "c793edea-ff27-4a80-9023-fe8ec045718d",
   "metadata": {},
   "outputs": [],
   "source": [
    "data = [{\"x\": 1, \"y\": 2}] * 100000\n",
    "s = pd.Series(data).ak.to_output()  # store as arrow"
   ]
  },
  {
   "cell_type": "code",
   "execution_count": null,
   "id": "1891f7c8-eb75-4294-902a-08a12a4dc914",
   "metadata": {},
   "outputs": [],
   "source": [
    "# check that the unary method is there; so tab-complete will work\n",
    "\"point_abs\" in dir(s.ak.with_behavior(\"Point\"))"
   ]
  },
  {
   "cell_type": "code",
   "execution_count": null,
   "id": "7f0f32c0-5bc8-4965-ae9d-42047923bb7e",
   "metadata": {},
   "outputs": [],
   "source": [
    "# call to get vector sizes\n",
    "s.ak.with_behavior(\"Point\").point_abs()"
   ]
  },
  {
   "cell_type": "code",
   "execution_count": null,
   "id": "23bd6b30-ed37-4581-aaa8-579e9856a4ee",
   "metadata": {},
   "outputs": [],
   "source": [
    "# or do the same with numpy ufunc\n",
    "np.abs(s.ak.with_behavior(\"Point\"))"
   ]
  },
  {
   "cell_type": "code",
   "execution_count": null,
   "id": "557925c5-dbb1-4b4f-a85a-0f79a2183b6e",
   "metadata": {},
   "outputs": [],
   "source": [
    "import math\n",
    "%timeit np.abs(s.ak.with_behavior(\"Point\"))\n",
    "%timeit s.apply(lambda struct: math.sqrt(struct[\"x\"] ** 2 + struct[\"y\"] ** 2))"
   ]
  },
  {
   "cell_type": "markdown",
   "id": "41cc90b2-20a6-486c-aebf-0584926758bc",
   "metadata": {},
   "source": [
    "Of course, we could have done the same by extracting out the arrays (e.g., `s.ak[\"x\"]`) and using numpy directly, which would have been as fast, but this way we have an object-like experience."
   ]
  },
  {
   "cell_type": "code",
   "execution_count": null,
   "id": "92d5dcfa-9eb0-4bf0-915e-d7e5c530afd5",
   "metadata": {},
   "outputs": [],
   "source": []
  }
 ],
 "metadata": {
  "kernelspec": {
   "display_name": "Python 3 (ipykernel)",
   "language": "python",
   "name": "python3"
  },
  "language_info": {
   "codemirror_mode": {
    "name": "ipython",
    "version": 3
   },
   "file_extension": ".py",
   "mimetype": "text/x-python",
   "name": "python",
   "nbconvert_exporter": "python",
   "pygments_lexer": "ipython3",
   "version": "3.10.9"
  }
 },
 "nbformat": 4,
 "nbformat_minor": 5
}
