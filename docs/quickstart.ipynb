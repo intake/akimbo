{
 "cells": [
  {
   "cell_type": "markdown",
   "id": "59204560",
   "metadata": {},
   "source": [
    "# Quick Start"
   ]
  },
  {
   "cell_type": "markdown",
   "id": "f52a6720",
   "metadata": {},
   "source": [
    "This first example uses `pandas`, because it remains the most popular dataframe library for python. However, exactly the same methods would be called for any of the other supported backends.\n",
    "\n",
    "Import the packages that we'll use: "
   ]
  },
  {
   "cell_type": "code",
   "execution_count": 1,
   "id": "c371c93d",
   "metadata": {},
   "outputs": [],
   "source": [
    "import awkward as ak\n",
    "import akimbo.pandas\n",
    "import pandas as pd\n",
    "import numpy as np"
   ]
  },
  {
   "cell_type": "markdown",
   "id": "62af7184",
   "metadata": {},
   "source": [
    "## Vectorizing ragged data"
   ]
  },
  {
   "cell_type": "markdown",
   "id": "199cc9d4",
   "metadata": {},
   "source": [
    "Consider a series made of python lists. This may happen a lot in ``pandas``. It is also possible in other dataframe libraries, but less likely. This data is only a couple of MB big, and the simplest amount of ragged nesting imaginable."
   ]
  },
  {
   "cell_type": "code",
   "execution_count": 2,
   "id": "a4d0d2dc",
   "metadata": {},
   "outputs": [],
   "source": [
    "s = pd.Series([[1, 2, 3], [0], [4, 5]] * 100000)"
   ]
  },
  {
   "cell_type": "code",
   "execution_count": 3,
   "id": "aca61be9",
   "metadata": {},
   "outputs": [
    {
     "data": {
      "text/plain": [
       "0         [1, 2, 3]\n",
       "1               [0]\n",
       "2            [4, 5]\n",
       "3         [1, 2, 3]\n",
       "4               [0]\n",
       "            ...    \n",
       "299995          [0]\n",
       "299996       [4, 5]\n",
       "299997    [1, 2, 3]\n",
       "299998          [0]\n",
       "299999       [4, 5]\n",
       "Length: 300000, dtype: object"
      ]
     },
     "execution_count": 3,
     "metadata": {},
     "output_type": "execute_result"
    }
   ],
   "source": [
    "s"
   ]
  },
  {
   "cell_type": "markdown",
   "id": "f8bc0a8f-4716-4c28-a14b-a57455e84c8a",
   "metadata": {},
   "source": [
    "First let's do a super simple operation: get the maximum of each list. There are a number of different ways to do this, we'll comment and time several."
   ]
  },
  {
   "cell_type": "markdown",
   "id": "9a065083",
   "metadata": {},
   "source": [
    "We can put the series in a DataFrame with another built-in pandas type, e.g. a column of integers:"
   ]
  },
  {
   "cell_type": "code",
   "execution_count": 4,
   "id": "59b6fc51-4863-42a9-927c-cdc7ef97e25b",
   "metadata": {},
   "outputs": [
    {
     "name": "stdout",
     "output_type": "stream",
     "text": [
      "\n",
      "numpy function\n",
      "883 ms ± 3.83 ms per loop (mean ± std. dev. of 7 runs, 1 loop each)\n",
      "\n",
      "python function\n",
      "48.6 ms ± 81.1 µs per loop (mean ± std. dev. of 7 runs, 10 loops each)\n",
      "\n",
      "comprehension/iteration\n",
      "34 ms ± 187 µs per loop (mean ± std. dev. of 7 runs, 10 loops each)\n",
      "\n",
      "ak with conversion\n",
      "34.1 ms ± 320 µs per loop (mean ± std. dev. of 7 runs, 10 loops each)\n",
      "\n",
      "ak after conversion\n",
      "3.32 ms ± 46 µs per loop (mean ± std. dev. of 7 runs, 100 loops each)\n"
     ]
    }
   ],
   "source": [
    "print(\"\\nnumpy function\")\n",
    "%timeit s.map(np.max);\n",
    "print(\"\\npython function\")\n",
    "%timeit s.map(max);\n",
    "print(\"\\ncomprehension/iteration\")\n",
    "%timeit [max(_) for _ in s];\n",
    "print(\"\\nak with conversion\")\n",
    "%timeit s.ak.max(axis=1);\n",
    "print(\"\\nak after conversion\")\n",
    "s2 = s.ak.to_output()\n",
    "%timeit s2.ak.max(axis=1)"
   ]
  },
  {
   "cell_type": "markdown",
   "id": "8f60fd45-8f5a-4900-9f45-2b66b457310c",
   "metadata": {},
   "source": [
    "Some interesting results!\n",
    "- numpy is terrible at this, where most of the cost is converting the lists to arrays. numpy is not esigned for tiny arrays\n",
    "- using builting python functions and iteraction is OK when the data size isn't too big; this doesn't scale to millions of elements or lists-of-lists\n",
    "- sometimes you can shave off runtime when you ignore the index; both ak versions maintain the index\n",
    "- ak is just as fast even accounting for converting the data; but if the data is already in optimized form (which also uses less memory), ak is **much** faster than any other method. There is no equivalent numpy representation of the data."
   ]
  },
  {
   "cell_type": "markdown",
   "id": "179f068f-1a1e-4331-860a-3fca1b07f51b",
   "metadata": {},
   "source": [
    "**NOTE**:\n",
    " Pandas supports arrow storage of data such as this, and some IO functions can create it\n",
    "without intermediate python objects with the argument dtype_backend=\"pyarrow\". For dask,\n",
    "arrow is already the default, but object are still common, and for polars and cuDF,\n",
    "arrow is the only storage available, so you are guaranteed fast operations.\n"
   ]
  },
  {
   "cell_type": "markdown",
   "id": "a2fc3169-bf85-431c-84fe-18bc78ca656e",
   "metadata": {},
   "source": [
    "### Nested records\n",
    "\n",
    "Let's look at a tiny example of nested record-oriented data. "
   ]
  },
  {
   "cell_type": "markdown",
   "id": "603472af-68c7-49cf-afd1-cbbf6aadb00e",
   "metadata": {},
   "source": [
    "This small fake sports dataset contains some players names, their team, and how many goals they've scored in some variable number of games that they've appeared in.\n",
    "\n",
    "\n",
    "The raw data:"
   ]
  },
  {
   "cell_type": "code",
   "execution_count": 5,
   "id": "65c9764d-ce9a-4330-8dd6-49d185c1232c",
   "metadata": {},
   "outputs": [],
   "source": [
    "text = \"\"\"- name: Bob\\n  team: tigers\\n  goals: [0, 0, 0, 1, 2, 0, 1]\\n\\n- name: Alice\\n  team: bears\\n  goals: [3, 2, 1, 0, 1]\\n\\n- name: Jack\\n  team: bears\\n  goals: [0, 0, 0, 0, 0, 0, 0, 0, 1]\\n\\n- name: Jill\\n  team: bears\\n  goals: [3, 0, 2]\\n\\n- name: Ted\\n  team: tigers\\n  goals: [0, 0, 0, 0, 0]\\n\\n- name: Ellen\\n  team: tigers\\n  goals: [1, 0, 0, 0, 2, 0, 1]\\n\\n- name: Dan\\n  team: bears\\n  goals: [0, 0, 3, 1, 0, 2, 0, 0]\\n\\n- name: Brad\\n  team: bears\\n  goals: [0, 0, 4, 0, 0, 1]\\n\\n- name: Nancy\\n  team: tigers\\n  goals: [0, 0, 1, 1, 1, 1, 0]\\n\\n- name: Lance\\n  team: bears\\n  goals: [1, 1, 1, 1, 1]\\n\\n- name: Sara\\n  team: tigers\\n  goals: [0, 1, 0, 2, 0, 3]\\n\\n- name: Ryan\\n  team: tigers\\n  goals: [1, 2, 3, 0, 0, 0, 0]\\n\"\"\""
   ]
  },
  {
   "cell_type": "markdown",
   "id": "0a016204-e2e3-43e4-805f-f923967696a9",
   "metadata": {},
   "source": [
    "This is in YAML format, so that we can include it in a single line. Notice that YAML allows us to see the nesting and variable-length of the data clearly. \n",
    "The data in YAML format:"
   ]
  },
  {
   "cell_type": "code",
   "execution_count": 6,
   "id": "22b42724-4ca0-44cb-b2cf-a095ea00dac8",
   "metadata": {},
   "outputs": [
    {
     "name": "stdout",
     "output_type": "stream",
     "text": [
      "- name: Bob\n",
      "  team: tigers\n",
      "  goals: [0, 0, 0, 1, 2, 0, 1]\n",
      "\n",
      "- name: Alice\n",
      "  team: bears\n",
      "  goals: [3, 2, 1, 0, 1]\n",
      "\n",
      "- name: Jack\n",
      "  team: bears\n",
      "  goals: [0, 0, 0, 0, 0, 0, 0, 0, 1]\n",
      "\n",
      "- name: Jill\n",
      "  team: bears\n",
      "  goals: [3, 0, 2]\n",
      "\n",
      "- name: Ted\n",
      "  team: tigers\n",
      "  goals: [0, 0, 0, 0, 0]\n",
      "\n",
      "- name: Ellen\n",
      "  team: tigers\n",
      "  goals: [1, 0, 0, 0, 2, 0, 1]\n",
      "\n",
      "- name: Dan\n",
      "  team: bears\n",
      "  goals: [0, 0, 3, 1, 0, 2, 0, 0]\n",
      "\n",
      "- name: Brad\n",
      "  team: bears\n",
      "  goals: [0, 0, 4, 0, 0, 1]\n",
      "\n",
      "- name: Nancy\n",
      "  team: tigers\n",
      "  goals: [0, 0, 1, 1, 1, 1, 0]\n",
      "\n",
      "- name: Lance\n",
      "  team: bears\n",
      "  goals: [1, 1, 1, 1, 1]\n",
      "\n",
      "- name: Sara\n",
      "  team: tigers\n",
      "  goals: [0, 1, 0, 2, 0, 3]\n",
      "\n",
      "- name: Ryan\n",
      "  team: tigers\n",
      "  goals: [1, 2, 3, 0, 0, 0, 0]\n",
      "\n"
     ]
    }
   ],
   "source": [
    "print(text)"
   ]
  },
  {
   "cell_type": "markdown",
   "id": "56f7c0b5-693c-418b-9cee-cb85904e290b",
   "metadata": {},
   "source": [
    "Awkward Array happily deals with this kind of data:"
   ]
  },
  {
   "cell_type": "code",
   "execution_count": 7,
   "id": "101d69c2-6d37-4994-9afc-6c197041a2c3",
   "metadata": {},
   "outputs": [],
   "source": [
    "import yaml\n",
    "\n",
    "dicts = yaml.safe_load(text)\n",
    "data = ak.Array(dicts)"
   ]
  },
  {
   "cell_type": "code",
   "execution_count": 8,
   "id": "3578b97d-aa57-4c5a-8a83-6f8107cdf7fa",
   "metadata": {},
   "outputs": [
    {
     "data": {
      "text/html": [
       "<pre>[{name: &#x27;Bob&#x27;, team: &#x27;tigers&#x27;, goals: [0, 0, ..., 0, 1]},\n",
       " {name: &#x27;Alice&#x27;, team: &#x27;bears&#x27;, goals: [3, 2, ..., 0, 1]},\n",
       " {name: &#x27;Jack&#x27;, team: &#x27;bears&#x27;, goals: [0, 0, ..., 0, 1]},\n",
       " {name: &#x27;Jill&#x27;, team: &#x27;bears&#x27;, goals: [3, 0, 2]},\n",
       " {name: &#x27;Ted&#x27;, team: &#x27;tigers&#x27;, goals: [0, 0, ..., 0, 0]},\n",
       " {name: &#x27;Ellen&#x27;, team: &#x27;tigers&#x27;, goals: [1, 0, ..., 0, 1]},\n",
       " {name: &#x27;Dan&#x27;, team: &#x27;bears&#x27;, goals: [0, 0, ..., 0, 0]},\n",
       " {name: &#x27;Brad&#x27;, team: &#x27;bears&#x27;, goals: [0, 0, ..., 0, 1]},\n",
       " {name: &#x27;Nancy&#x27;, team: &#x27;tigers&#x27;, goals: [0, 0, ..., 1, 0]},\n",
       " {name: &#x27;Lance&#x27;, team: &#x27;bears&#x27;, goals: [1, 1, ..., 1, 1]},\n",
       " {name: &#x27;Sara&#x27;, team: &#x27;tigers&#x27;, goals: [0, 1, ..., 0, 3]},\n",
       " {name: &#x27;Ryan&#x27;, team: &#x27;tigers&#x27;, goals: [1, 2, ..., 0, 0]}]\n",
       "-----------------------------------------------------------\n",
       "type: 12 * {\n",
       "    name: string,\n",
       "    team: string,\n",
       "    goals: var * int64\n",
       "}</pre>"
      ],
      "text/plain": [
       "<Array [{name: 'Bob', team: ..., ...}, ...] type='12 * {name: string, team:...'>"
      ]
     },
     "execution_count": 8,
     "metadata": {},
     "output_type": "execute_result"
    }
   ],
   "source": [
    "data"
   ]
  },
  {
   "cell_type": "markdown",
   "id": "dfabb8e8-0764-4bb8-8b29-1ed60868e1a9",
   "metadata": {},
   "source": [
    "but we use `akimbo` to transform it into a Series. This will allow us to use dataframe functionality such as groupby, below."
   ]
  },
  {
   "cell_type": "code",
   "execution_count": 9,
   "id": "9f1d3d29-c0e3-4b15-936e-193b776ec38c",
   "metadata": {},
   "outputs": [],
   "source": [
    "s = akimbo.pandas.PandasAwkwardAccessor._to_output(data)"
   ]
  },
  {
   "cell_type": "markdown",
   "id": "4bdaf488-1ab9-4c8c-8e0d-4ecc47aaa00a",
   "metadata": {},
   "source": [
    "The dataset in Awkward Array form as three fields: \"name\", \"team\" and \"goals\""
   ]
  },
  {
   "cell_type": "markdown",
   "id": "d60887e8-582b-474f-a79f-173bc62c4bd1",
   "metadata": {},
   "source": [
    "Of these, two are \"normal\" fields - they can be made into dataframe columns containing no nesting. To unwrap the top record-like structure of the data, we can use ``unmerge``."
   ]
  },
  {
   "cell_type": "code",
   "execution_count": 10,
   "id": "5139d4fd-c967-4a07-9734-8a235490c6f0",
   "metadata": {},
   "outputs": [
    {
     "data": {
      "text/html": [
       "<div>\n",
       "<style scoped>\n",
       "    .dataframe tbody tr th:only-of-type {\n",
       "        vertical-align: middle;\n",
       "    }\n",
       "\n",
       "    .dataframe tbody tr th {\n",
       "        vertical-align: top;\n",
       "    }\n",
       "\n",
       "    .dataframe thead th {\n",
       "        text-align: right;\n",
       "    }\n",
       "</style>\n",
       "<table border=\"1\" class=\"dataframe\">\n",
       "  <thead>\n",
       "    <tr style=\"text-align: right;\">\n",
       "      <th></th>\n",
       "      <th>name</th>\n",
       "      <th>team</th>\n",
       "      <th>goals</th>\n",
       "    </tr>\n",
       "  </thead>\n",
       "  <tbody>\n",
       "    <tr>\n",
       "      <th>0</th>\n",
       "      <td>Bob</td>\n",
       "      <td>tigers</td>\n",
       "      <td>[0 0 0 1 2 0 1]</td>\n",
       "    </tr>\n",
       "    <tr>\n",
       "      <th>1</th>\n",
       "      <td>Alice</td>\n",
       "      <td>bears</td>\n",
       "      <td>[3 2 1 0 1]</td>\n",
       "    </tr>\n",
       "    <tr>\n",
       "      <th>2</th>\n",
       "      <td>Jack</td>\n",
       "      <td>bears</td>\n",
       "      <td>[0 0 0 0 0 0 0 0 1]</td>\n",
       "    </tr>\n",
       "    <tr>\n",
       "      <th>3</th>\n",
       "      <td>Jill</td>\n",
       "      <td>bears</td>\n",
       "      <td>[3 0 2]</td>\n",
       "    </tr>\n",
       "    <tr>\n",
       "      <th>4</th>\n",
       "      <td>Ted</td>\n",
       "      <td>tigers</td>\n",
       "      <td>[0 0 0 0 0]</td>\n",
       "    </tr>\n",
       "    <tr>\n",
       "      <th>5</th>\n",
       "      <td>Ellen</td>\n",
       "      <td>tigers</td>\n",
       "      <td>[1 0 0 0 2 0 1]</td>\n",
       "    </tr>\n",
       "    <tr>\n",
       "      <th>6</th>\n",
       "      <td>Dan</td>\n",
       "      <td>bears</td>\n",
       "      <td>[0 0 3 1 0 2 0 0]</td>\n",
       "    </tr>\n",
       "    <tr>\n",
       "      <th>7</th>\n",
       "      <td>Brad</td>\n",
       "      <td>bears</td>\n",
       "      <td>[0 0 4 0 0 1]</td>\n",
       "    </tr>\n",
       "    <tr>\n",
       "      <th>8</th>\n",
       "      <td>Nancy</td>\n",
       "      <td>tigers</td>\n",
       "      <td>[0 0 1 1 1 1 0]</td>\n",
       "    </tr>\n",
       "    <tr>\n",
       "      <th>9</th>\n",
       "      <td>Lance</td>\n",
       "      <td>bears</td>\n",
       "      <td>[1 1 1 1 1]</td>\n",
       "    </tr>\n",
       "    <tr>\n",
       "      <th>10</th>\n",
       "      <td>Sara</td>\n",
       "      <td>tigers</td>\n",
       "      <td>[0 1 0 2 0 3]</td>\n",
       "    </tr>\n",
       "    <tr>\n",
       "      <th>11</th>\n",
       "      <td>Ryan</td>\n",
       "      <td>tigers</td>\n",
       "      <td>[1 2 3 0 0 0 0]</td>\n",
       "    </tr>\n",
       "  </tbody>\n",
       "</table>\n",
       "</div>"
      ],
      "text/plain": [
       "     name    team                goals\n",
       "0     Bob  tigers      [0 0 0 1 2 0 1]\n",
       "1   Alice   bears          [3 2 1 0 1]\n",
       "2    Jack   bears  [0 0 0 0 0 0 0 0 1]\n",
       "3    Jill   bears              [3 0 2]\n",
       "4     Ted  tigers          [0 0 0 0 0]\n",
       "5   Ellen  tigers      [1 0 0 0 2 0 1]\n",
       "6     Dan   bears    [0 0 3 1 0 2 0 0]\n",
       "7    Brad   bears        [0 0 4 0 0 1]\n",
       "8   Nancy  tigers      [0 0 1 1 1 1 0]\n",
       "9   Lance   bears          [1 1 1 1 1]\n",
       "10   Sara  tigers        [0 1 0 2 0 3]\n",
       "11   Ryan  tigers      [1 2 3 0 0 0 0]"
      ]
     },
     "execution_count": 10,
     "metadata": {},
     "output_type": "execute_result"
    }
   ],
   "source": [
    "df = s.ak.unmerge()\n",
    "df"
   ]
  },
  {
   "cell_type": "markdown",
   "id": "494081c8-21e4-4228-8010-b1bdf7563c47",
   "metadata": {},
   "source": [
    "We can use pure Pandas to investigate the dataset, but since Pandas doesn't have a builtin ability to handle the nested structure of our `goals` column, we're limited to some coarse information.\n",
    "\n",
    "For example, we can group by the team and see the average number of goals _total_ goals scored. Here we use the ``.ak`` accessor _on each group_, to be able to do arithmetic on the variable-length data, but while maintaining the pandas index."
   ]
  },
  {
   "cell_type": "code",
   "execution_count": 11,
   "id": "350b5b98-e91c-475d-b5f5-5fc7bda73194",
   "metadata": {},
   "outputs": [
    {
     "data": {
      "text/plain": [
       "team    name \n",
       "bears   Jill     1.666667\n",
       "        Alice    1.400000\n",
       "        Lance    1.000000\n",
       "tigers  Sara     1.000000\n",
       "        Ryan     0.857143\n",
       "bears   Brad     0.833333\n",
       "        Dan      0.750000\n",
       "tigers  Bob      0.571429\n",
       "        Ellen    0.571429\n",
       "        Nancy    0.571429\n",
       "bears   Jack     0.111111\n",
       "tigers  Ted      0.000000\n",
       "dtype: double[pyarrow]"
      ]
     },
     "execution_count": 11,
     "metadata": {},
     "output_type": "execute_result"
    }
   ],
   "source": [
    "df.set_index(\"name\") \\\n",
    "  .groupby(\"team\", group_keys=True) \\\n",
    "  .apply(lambda x: x.goals.ak.mean(axis=1)) \\\n",
    "  .sort_values(ascending=False)"
   ]
  },
  {
   "cell_type": "markdown",
   "id": "c480ffeb-971b-4af8-b01e-dd6f6f868c5e",
   "metadata": {},
   "source": [
    "Determine how many games each player has appeared in is simpler, using a direct method:"
   ]
  },
  {
   "cell_type": "code",
   "execution_count": 12,
   "id": "a6ac5ba1-b205-4620-835e-ea3acd2a20d0",
   "metadata": {},
   "outputs": [],
   "source": [
    "df[\"n_games\"] = df.goals.ak.num(axis=1)"
   ]
  },
  {
   "cell_type": "code",
   "execution_count": 13,
   "id": "8abda5da-4214-44a1-bcab-7c9926f0ddae",
   "metadata": {},
   "outputs": [
    {
     "data": {
      "text/html": [
       "<div>\n",
       "<style scoped>\n",
       "    .dataframe tbody tr th:only-of-type {\n",
       "        vertical-align: middle;\n",
       "    }\n",
       "\n",
       "    .dataframe tbody tr th {\n",
       "        vertical-align: top;\n",
       "    }\n",
       "\n",
       "    .dataframe thead th {\n",
       "        text-align: right;\n",
       "    }\n",
       "</style>\n",
       "<table border=\"1\" class=\"dataframe\">\n",
       "  <thead>\n",
       "    <tr style=\"text-align: right;\">\n",
       "      <th></th>\n",
       "      <th>name</th>\n",
       "      <th>team</th>\n",
       "      <th>goals</th>\n",
       "      <th>n_games</th>\n",
       "    </tr>\n",
       "  </thead>\n",
       "  <tbody>\n",
       "    <tr>\n",
       "      <th>0</th>\n",
       "      <td>Bob</td>\n",
       "      <td>tigers</td>\n",
       "      <td>[0 0 0 1 2 0 1]</td>\n",
       "      <td>7</td>\n",
       "    </tr>\n",
       "    <tr>\n",
       "      <th>1</th>\n",
       "      <td>Alice</td>\n",
       "      <td>bears</td>\n",
       "      <td>[3 2 1 0 1]</td>\n",
       "      <td>5</td>\n",
       "    </tr>\n",
       "    <tr>\n",
       "      <th>2</th>\n",
       "      <td>Jack</td>\n",
       "      <td>bears</td>\n",
       "      <td>[0 0 0 0 0 0 0 0 1]</td>\n",
       "      <td>9</td>\n",
       "    </tr>\n",
       "    <tr>\n",
       "      <th>3</th>\n",
       "      <td>Jill</td>\n",
       "      <td>bears</td>\n",
       "      <td>[3 0 2]</td>\n",
       "      <td>3</td>\n",
       "    </tr>\n",
       "    <tr>\n",
       "      <th>4</th>\n",
       "      <td>Ted</td>\n",
       "      <td>tigers</td>\n",
       "      <td>[0 0 0 0 0]</td>\n",
       "      <td>5</td>\n",
       "    </tr>\n",
       "    <tr>\n",
       "      <th>5</th>\n",
       "      <td>Ellen</td>\n",
       "      <td>tigers</td>\n",
       "      <td>[1 0 0 0 2 0 1]</td>\n",
       "      <td>7</td>\n",
       "    </tr>\n",
       "    <tr>\n",
       "      <th>6</th>\n",
       "      <td>Dan</td>\n",
       "      <td>bears</td>\n",
       "      <td>[0 0 3 1 0 2 0 0]</td>\n",
       "      <td>8</td>\n",
       "    </tr>\n",
       "    <tr>\n",
       "      <th>7</th>\n",
       "      <td>Brad</td>\n",
       "      <td>bears</td>\n",
       "      <td>[0 0 4 0 0 1]</td>\n",
       "      <td>6</td>\n",
       "    </tr>\n",
       "    <tr>\n",
       "      <th>8</th>\n",
       "      <td>Nancy</td>\n",
       "      <td>tigers</td>\n",
       "      <td>[0 0 1 1 1 1 0]</td>\n",
       "      <td>7</td>\n",
       "    </tr>\n",
       "    <tr>\n",
       "      <th>9</th>\n",
       "      <td>Lance</td>\n",
       "      <td>bears</td>\n",
       "      <td>[1 1 1 1 1]</td>\n",
       "      <td>5</td>\n",
       "    </tr>\n",
       "    <tr>\n",
       "      <th>10</th>\n",
       "      <td>Sara</td>\n",
       "      <td>tigers</td>\n",
       "      <td>[0 1 0 2 0 3]</td>\n",
       "      <td>6</td>\n",
       "    </tr>\n",
       "    <tr>\n",
       "      <th>11</th>\n",
       "      <td>Ryan</td>\n",
       "      <td>tigers</td>\n",
       "      <td>[1 2 3 0 0 0 0]</td>\n",
       "      <td>7</td>\n",
       "    </tr>\n",
       "  </tbody>\n",
       "</table>\n",
       "</div>"
      ],
      "text/plain": [
       "     name    team                goals  n_games\n",
       "0     Bob  tigers      [0 0 0 1 2 0 1]        7\n",
       "1   Alice   bears          [3 2 1 0 1]        5\n",
       "2    Jack   bears  [0 0 0 0 0 0 0 0 1]        9\n",
       "3    Jill   bears              [3 0 2]        3\n",
       "4     Ted  tigers          [0 0 0 0 0]        5\n",
       "5   Ellen  tigers      [1 0 0 0 2 0 1]        7\n",
       "6     Dan   bears    [0 0 3 1 0 2 0 0]        8\n",
       "7    Brad   bears        [0 0 4 0 0 1]        6\n",
       "8   Nancy  tigers      [0 0 1 1 1 1 0]        7\n",
       "9   Lance   bears          [1 1 1 1 1]        5\n",
       "10   Sara  tigers        [0 1 0 2 0 3]        6\n",
       "11   Ryan  tigers      [1 2 3 0 0 0 0]        7"
      ]
     },
     "execution_count": 13,
     "metadata": {},
     "output_type": "execute_result"
    }
   ],
   "source": [
    "df"
   ]
  },
  {
   "cell_type": "markdown",
   "id": "241d6cd9-5a4d-4c17-ac10-fa6d26d3d0f0",
   "metadata": {},
   "source": [
    "We can also convert the entire dataframe (any dataframe, in fact) back to a `Series`, which is convenient if we want to drop down to the Awkward library for further operations."
   ]
  },
  {
   "cell_type": "code",
   "execution_count": 14,
   "id": "a8e4dbd9-8a77-4b4a-a05c-18621aa81ead",
   "metadata": {},
   "outputs": [],
   "source": [
    "s = df.ak.merge()"
   ]
  },
  {
   "cell_type": "code",
   "execution_count": 15,
   "id": "4fe023c4-b36a-4e8c-bc56-486241349497",
   "metadata": {},
   "outputs": [
    {
     "data": {
      "text/plain": [
       "0     {'name': 'Bob', 'team': 'tigers', 'goals': arr...\n",
       "1     {'name': 'Alice', 'team': 'bears', 'goals': ar...\n",
       "2     {'name': 'Jack', 'team': 'bears', 'goals': arr...\n",
       "3     {'name': 'Jill', 'team': 'bears', 'goals': arr...\n",
       "4     {'name': 'Ted', 'team': 'tigers', 'goals': arr...\n",
       "5     {'name': 'Ellen', 'team': 'tigers', 'goals': a...\n",
       "6     {'name': 'Dan', 'team': 'bears', 'goals': arra...\n",
       "7     {'name': 'Brad', 'team': 'bears', 'goals': arr...\n",
       "8     {'name': 'Nancy', 'team': 'tigers', 'goals': a...\n",
       "9     {'name': 'Lance', 'team': 'bears', 'goals': ar...\n",
       "10    {'name': 'Sara', 'team': 'tigers', 'goals': ar...\n",
       "11    {'name': 'Ryan', 'team': 'tigers', 'goals': ar...\n",
       "dtype: struct<name: large_string not null, team: large_string not null, goals: large_list<item: int64 not null> not null, n_games: int64 not null>[pyarrow]"
      ]
     },
     "execution_count": 15,
     "metadata": {},
     "output_type": "execute_result"
    }
   ],
   "source": [
    "s  # look at that complex dtype!"
   ]
  },
  {
   "cell_type": "markdown",
   "id": "e3f6d87f-d427-4ae2-b9c6-6e38f0f975a2",
   "metadata": {},
   "source": [
    "And go back to pure awkward (now with our new `n_games` column) using the accessor:"
   ]
  },
  {
   "cell_type": "code",
   "execution_count": 16,
   "id": "9fa44a70-63ee-4c4d-80eb-3e979c0337d7",
   "metadata": {},
   "outputs": [
    {
     "data": {
      "text/html": [
       "<pre>[{name: &#x27;Bob&#x27;, team: &#x27;tigers&#x27;, goals: [0, 0, ..., 0, 1], n_games: 7},\n",
       " {name: &#x27;Alice&#x27;, team: &#x27;bears&#x27;, goals: [3, 2, ..., 0, 1], n_games: 5},\n",
       " {name: &#x27;Jack&#x27;, team: &#x27;bears&#x27;, goals: [0, 0, ..., 0, 1], n_games: 9},\n",
       " {name: &#x27;Jill&#x27;, team: &#x27;bears&#x27;, goals: [3, 0, 2], n_games: 3},\n",
       " {name: &#x27;Ted&#x27;, team: &#x27;tigers&#x27;, goals: [0, 0, ..., 0, 0], n_games: 5},\n",
       " {name: &#x27;Ellen&#x27;, team: &#x27;tigers&#x27;, goals: [1, 0, ..., 0, 1], n_games: 7},\n",
       " {name: &#x27;Dan&#x27;, team: &#x27;bears&#x27;, goals: [0, 0, ..., 0, 0], n_games: 8},\n",
       " {name: &#x27;Brad&#x27;, team: &#x27;bears&#x27;, goals: [0, 0, ..., 0, 1], n_games: 6},\n",
       " {name: &#x27;Nancy&#x27;, team: &#x27;tigers&#x27;, goals: [0, 0, ..., 1, 0], n_games: 7},\n",
       " {name: &#x27;Lance&#x27;, team: &#x27;bears&#x27;, goals: [1, 1, ..., 1, 1], n_games: 5},\n",
       " {name: &#x27;Sara&#x27;, team: &#x27;tigers&#x27;, goals: [0, 1, ..., 0, 3], n_games: 6},\n",
       " {name: &#x27;Ryan&#x27;, team: &#x27;tigers&#x27;, goals: [1, 2, ..., 0, 0], n_games: 7}]\n",
       "-----------------------------------------------------------------------\n",
       "type: 12 * {\n",
       "    name: string,\n",
       "    team: string,\n",
       "    goals: var * int64,\n",
       "    n_games: int64\n",
       "}</pre>"
      ],
      "text/plain": [
       "<Array [{name: 'Bob', team: ..., ...}, ...] type='12 * {name: string, team:...'>"
      ]
     },
     "execution_count": 16,
     "metadata": {},
     "output_type": "execute_result"
    }
   ],
   "source": [
    "s.ak.array"
   ]
  },
  {
   "cell_type": "code",
   "execution_count": 17,
   "id": "cd165bf6-ae01-45b3-b290-3b091fc4b9e3",
   "metadata": {},
   "outputs": [
    {
     "data": {
      "text/plain": [
       "['name', 'team', 'goals', 'n_games']"
      ]
     },
     "execution_count": 17,
     "metadata": {},
     "output_type": "execute_result"
    }
   ],
   "source": [
    "s.ak.array.fields"
   ]
  },
  {
   "cell_type": "code",
   "execution_count": 18,
   "id": "bca4d5c4-5802-43f8-bc24-e59612465890",
   "metadata": {},
   "outputs": [
    {
     "data": {
      "text/plain": [
       "0     7\n",
       "1     5\n",
       "2     9\n",
       "3     3\n",
       "4     5\n",
       "5     7\n",
       "6     8\n",
       "7     6\n",
       "8     7\n",
       "9     5\n",
       "10    6\n",
       "11    7\n",
       "dtype: int64[pyarrow]"
      ]
     },
     "execution_count": 18,
     "metadata": {},
     "output_type": "execute_result"
    }
   ],
   "source": [
    "# as series\n",
    "s.ak[\"n_games\"]"
   ]
  },
  {
   "cell_type": "code",
   "execution_count": 19,
   "id": "7efeb90b-6395-4b70-9134-1cd4842876ae",
   "metadata": {},
   "outputs": [
    {
     "data": {
      "text/html": [
       "<pre>[7,\n",
       " 5,\n",
       " 9,\n",
       " 3,\n",
       " 5,\n",
       " 7,\n",
       " 8,\n",
       " 6,\n",
       " 7,\n",
       " 5,\n",
       " 6,\n",
       " 7]\n",
       "----------------\n",
       "type: 12 * int64</pre>"
      ],
      "text/plain": [
       "<Array [7, 5, 9, 3, 5, 7, 8, 6, 7, 5, 6, 7] type='12 * int64'>"
      ]
     },
     "execution_count": 19,
     "metadata": {},
     "output_type": "execute_result"
    }
   ],
   "source": [
    "# as awkward\n",
    "s.ak.array[\"n_games\"]"
   ]
  },
  {
   "cell_type": "markdown",
   "id": "97aa0ac7-f1d5-4344-ae2c-72f617ededea",
   "metadata": {},
   "source": [
    "### Behaviours\n",
    "\n",
    "Let's take an example from upsrteam documentation: vectors are made of two fields, `(x, y)`. We know that adding and the the size of a vector are easily expressed. Let's encode this in a class and apply it to data in a dataframe."
   ]
  },
  {
   "cell_type": "code",
   "execution_count": 20,
   "id": "4620a04a-e719-4b34-b633-0325b9121e25",
   "metadata": {},
   "outputs": [],
   "source": [
    "from akimbo import mixin_class, mixin_class_method, behavior\n",
    "import akimbo.pandas\n",
    "import numpy as np\n",
    "import pandas as pd\n",
    "\n",
    "\n",
    "@mixin_class(behavior)\n",
    "class Point:\n",
    "\n",
    "    @mixin_class_method(np.abs)\n",
    "    def point_abs(self):\n",
    "        return np.sqrt(self.x ** 2 + self.y ** 2)\n",
    "\n",
    "    @mixin_class_method(np.add, {\"Point\"})\n",
    "    def point_add(self, other):\n",
    "        return ak.zip(\n",
    "            {\"x\": self.x + other.x, \"y\": self.y + other.y}, with_name=\"Point\",\n",
    "        )"
   ]
  },
  {
   "cell_type": "code",
   "execution_count": 21,
   "id": "c793edea-ff27-4a80-9023-fe8ec045718d",
   "metadata": {},
   "outputs": [],
   "source": [
    "data = [{\"x\": 1, \"y\": 2}] * 100000\n",
    "s = pd.Series(data).ak.to_output()  # store as arrow"
   ]
  },
  {
   "cell_type": "code",
   "execution_count": 22,
   "id": "1891f7c8-eb75-4294-902a-08a12a4dc914",
   "metadata": {},
   "outputs": [
    {
     "data": {
      "text/plain": [
       "True"
      ]
     },
     "execution_count": 22,
     "metadata": {},
     "output_type": "execute_result"
    }
   ],
   "source": [
    "# check that the unary method is there; so tab-complete will work\n",
    "\"point_abs\" in dir(s.ak.with_behavior(\"Point\"))"
   ]
  },
  {
   "cell_type": "code",
   "execution_count": 23,
   "id": "7f0f32c0-5bc8-4965-ae9d-42047923bb7e",
   "metadata": {},
   "outputs": [
    {
     "data": {
      "text/plain": [
       "0        2.236068\n",
       "1        2.236068\n",
       "2        2.236068\n",
       "3        2.236068\n",
       "4        2.236068\n",
       "           ...   \n",
       "99995    2.236068\n",
       "99996    2.236068\n",
       "99997    2.236068\n",
       "99998    2.236068\n",
       "99999    2.236068\n",
       "Length: 100000, dtype: double[pyarrow]"
      ]
     },
     "execution_count": 23,
     "metadata": {},
     "output_type": "execute_result"
    }
   ],
   "source": [
    "# call to get vector sizes\n",
    "s.ak.with_behavior(\"Point\").point_abs()"
   ]
  },
  {
   "cell_type": "code",
   "execution_count": 24,
   "id": "23bd6b30-ed37-4581-aaa8-579e9856a4ee",
   "metadata": {},
   "outputs": [
    {
     "data": {
      "text/plain": [
       "0        2.236068\n",
       "1        2.236068\n",
       "2        2.236068\n",
       "3        2.236068\n",
       "4        2.236068\n",
       "           ...   \n",
       "99995    2.236068\n",
       "99996    2.236068\n",
       "99997    2.236068\n",
       "99998    2.236068\n",
       "99999    2.236068\n",
       "Length: 100000, dtype: double[pyarrow]"
      ]
     },
     "execution_count": 24,
     "metadata": {},
     "output_type": "execute_result"
    }
   ],
   "source": [
    "# or do the same with numpy ufunc\n",
    "np.abs(s.ak.with_behavior(\"Point\"))"
   ]
  },
  {
   "cell_type": "code",
   "execution_count": 25,
   "id": "557925c5-dbb1-4b4f-a85a-0f79a2183b6e",
   "metadata": {},
   "outputs": [
    {
     "name": "stdout",
     "output_type": "stream",
     "text": [
      "3.45 ms ± 51.3 µs per loop (mean ± std. dev. of 7 runs, 100 loops each)\n",
      "60.4 ms ± 256 µs per loop (mean ± std. dev. of 7 runs, 10 loops each)\n"
     ]
    }
   ],
   "source": [
    "import math\n",
    "%timeit np.abs(s.ak.with_behavior(\"Point\"))\n",
    "%timeit s.apply(lambda struct: math.sqrt(struct[\"x\"] ** 2 + struct[\"y\"] ** 2))"
   ]
  },
  {
   "cell_type": "markdown",
   "id": "41cc90b2-20a6-486c-aebf-0584926758bc",
   "metadata": {},
   "source": [
    "Of course, we could have done the same by extracting out the arrays (e.g., `s.ak[\"x\"]`) and using numpy directly, which would have been as fast, but this way we have an object-like experience."
   ]
  },
  {
   "cell_type": "markdown",
   "id": "c37ef35e-c46d-473a-bc62-9da382cecb6e",
   "metadata": {},
   "source": [
    "Similarly, we defined an overload to add Point arrays together (both operands must be Point type). \n",
    "A vector addition is performed. This also happens at obviously vectorized speed - but I am not even sure how you would perform the same thing using python dicts."
   ]
  },
  {
   "cell_type": "code",
   "execution_count": 26,
   "id": "92d5dcfa-9eb0-4bf0-915e-d7e5c530afd5",
   "metadata": {},
   "outputs": [
    {
     "name": "stdout",
     "output_type": "stream",
     "text": [
      "2.63 ms ± 44.5 µs per loop (mean ± std. dev. of 7 runs, 100 loops each)\n"
     ]
    },
    {
     "data": {
      "text/plain": [
       "0        {'x': 2, 'y': 4}\n",
       "1        {'x': 2, 'y': 4}\n",
       "2        {'x': 2, 'y': 4}\n",
       "3        {'x': 2, 'y': 4}\n",
       "4        {'x': 2, 'y': 4}\n",
       "               ...       \n",
       "99995    {'x': 2, 'y': 4}\n",
       "99996    {'x': 2, 'y': 4}\n",
       "99997    {'x': 2, 'y': 4}\n",
       "99998    {'x': 2, 'y': 4}\n",
       "99999    {'x': 2, 'y': 4}\n",
       "Length: 100000, dtype: struct<x: int64, y: int64>[pyarrow]"
      ]
     },
     "execution_count": 26,
     "metadata": {},
     "output_type": "execute_result"
    }
   ],
   "source": [
    "%timeit s.ak.with_behavior(\"Point\") + s.ak.with_behavior(\"Point\")\n",
    "s.ak.with_behavior(\"Point\") + s.ak.with_behavior(\"Point\")"
   ]
  },
  {
   "cell_type": "markdown",
   "id": "33947d87-ab7d-4ac9-996e-c8f83fc66c66",
   "metadata": {},
   "source": [
    "### Numba integration\n",
    "\n",
    "The numpy API is very nice and can do most things you will need. The object-oriented behaviours are very convenient.\n",
    "\n",
    "However, some algorithms are complex enough that you need to process with a custom function, and the data may be big and complex enough that python iteration over rows is simply not an option. A functional approach may also allow compute operations in a single-pass and without temporaries that cannot be done with the numpy API.\n",
    "\n",
    "Enter [`numba`](https://numba.pydata.org/) , a JIT-compiler for numerical python, turning iterative, loopy functions into their C-language equivalent. Let's take an example."
   ]
  },
  {
   "cell_type": "code",
   "execution_count": 27,
   "id": "9eb1257e-4777-47ca-ae42-9b2db2719a23",
   "metadata": {},
   "outputs": [],
   "source": [
    "import numba\n",
    "\n",
    "\n",
    "def mean_of_second_biggest(arr):\n",
    "    count = 0\n",
    "    total = 0\n",
    "    for row in arr:\n",
    "        if len(row) < 2:\n",
    "            continue\n",
    "        max = row[0]\n",
    "        if row[1] > max:\n",
    "            second = max\n",
    "            max = row[1]\n",
    "        else:\n",
    "            second = row[1]\n",
    "        for x in row[2:]:\n",
    "            if x > max:\n",
    "                second = max\n",
    "                max = x\n",
    "            elif x > second:\n",
    "                second = x\n",
    "        count += 1\n",
    "        total += second\n",
    "    return total / count\n",
    "            \n"
   ]
  },
  {
   "cell_type": "code",
   "execution_count": 28,
   "id": "7dde1591-1436-44a1-9bbb-1e5f228f5173",
   "metadata": {},
   "outputs": [
    {
     "data": {
      "text/plain": [
       "2.0"
      ]
     },
     "execution_count": 28,
     "metadata": {},
     "output_type": "execute_result"
    }
   ],
   "source": [
    "mean_of_second_biggest([[1], [3, 2, 1], [3, 4, 4], [0, 1, 0]])  # mean of 2, 4, and 0"
   ]
  },
  {
   "cell_type": "code",
   "execution_count": 29,
   "id": "c358c23b-fa5f-409f-bc58-67333fbd9c23",
   "metadata": {},
   "outputs": [],
   "source": [
    "jsecond = numba.njit(mean_of_second_biggest)"
   ]
  },
  {
   "cell_type": "code",
   "execution_count": 30,
   "id": "c893840a-2236-4678-8ac2-be5b2e7bb05f",
   "metadata": {},
   "outputs": [],
   "source": [
    "s = pd.Series([[1], [3, 2, 1], [3, 4, 4], [0, 1, 0]] * 100000).ak.to_output()"
   ]
  },
  {
   "cell_type": "code",
   "execution_count": 31,
   "id": "a65feec8-a2cc-4341-b1e3-1fd93174a1bd",
   "metadata": {},
   "outputs": [
    {
     "data": {
      "text/plain": [
       "0             [1]\n",
       "1         [3 2 1]\n",
       "2         [3 4 4]\n",
       "3         [0 1 0]\n",
       "4             [1]\n",
       "           ...   \n",
       "399995    [0 1 0]\n",
       "399996        [1]\n",
       "399997    [3 2 1]\n",
       "399998    [3 4 4]\n",
       "399999    [0 1 0]\n",
       "Length: 400000, dtype: list<item: int64>[pyarrow]"
      ]
     },
     "execution_count": 31,
     "metadata": {},
     "output_type": "execute_result"
    }
   ],
   "source": [
    "s"
   ]
  },
  {
   "cell_type": "code",
   "execution_count": 32,
   "id": "227af214-3950-403b-ae6d-6521c59942cc",
   "metadata": {},
   "outputs": [
    {
     "data": {
      "text/plain": [
       "2.0"
      ]
     },
     "execution_count": 32,
     "metadata": {},
     "output_type": "execute_result"
    }
   ],
   "source": [
    "s.ak.apply(jsecond)"
   ]
  },
  {
   "cell_type": "code",
   "execution_count": 33,
   "id": "55eb2870-ab7b-4595-8e67-573cefe72d72",
   "metadata": {},
   "outputs": [
    {
     "name": "stdout",
     "output_type": "stream",
     "text": [
      "1.03 ms ± 7.39 µs per loop (mean ± std. dev. of 7 runs, 1,000 loops each)\n",
      "478 ms ± 2.51 ms per loop (mean ± std. dev. of 7 runs, 1 loop each)\n"
     ]
    }
   ],
   "source": [
    "# timings\n",
    "%timeit s.ak.apply(jsecond)\n",
    "%timeit mean_of_second_biggest(s)"
   ]
  },
  {
   "cell_type": "markdown",
   "id": "43234e7a-794a-4bb3-b163-1df8d11afe09",
   "metadata": {},
   "source": [
    "Question: could you have done this with vectorized numpy calls?"
   ]
  },
  {
   "cell_type": "code",
   "execution_count": null,
   "id": "b9c11c8c-9c9b-45c4-ba7a-86f0d741cfb6",
   "metadata": {},
   "outputs": [],
   "source": []
  }
 ],
 "metadata": {
  "kernelspec": {
   "display_name": "Python 3 (ipykernel)",
   "language": "python",
   "name": "python3"
  },
  "language_info": {
   "codemirror_mode": {
    "name": "ipython",
    "version": 3
   },
   "file_extension": ".py",
   "mimetype": "text/x-python",
   "name": "python",
   "nbconvert_exporter": "python",
   "pygments_lexer": "ipython3",
   "version": "3.10.9"
  }
 },
 "nbformat": 4,
 "nbformat_minor": 5
}
