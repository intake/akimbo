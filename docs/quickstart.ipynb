{
 "cells": [
  {
   "cell_type": "markdown",
   "id": "59204560",
   "metadata": {},
   "source": [
    "# Quick Start"
   ]
  },
  {
   "cell_type": "markdown",
   "id": "f52a6720",
   "metadata": {},
   "source": [
    "Import the packages that we'll use:"
   ]
  },
  {
   "cell_type": "code",
   "execution_count": 1,
   "id": "c371c93d",
   "metadata": {},
   "outputs": [],
   "source": [
    "import awkward as ak\n",
    "import awkward_pandas as akpd\n",
    "import numpy as np\n",
    "import pandas as pd"
   ]
  },
  {
   "cell_type": "markdown",
   "id": "62af7184",
   "metadata": {},
   "source": [
    "Check what versions we have:"
   ]
  },
  {
   "cell_type": "code",
   "execution_count": 2,
   "id": "fd8cebd9",
   "metadata": {},
   "outputs": [
    {
     "name": "stdout",
     "output_type": "stream",
     "text": [
      "awkward         2.0.0rc2\n",
      "awkward_pandas  2022.8a1.dev14+gdf2fda7.d20221031\n",
      "numpy           1.23.4\n",
      "pandas          1.5.1\n"
     ]
    }
   ],
   "source": [
    "for entry in (ak, akpd, np, pd):\n",
    "    print(f\"{entry.__name__:15} {entry.__version__}\")"
   ]
  },
  {
   "cell_type": "markdown",
   "id": "199cc9d4",
   "metadata": {},
   "source": [
    "Make a simple awkward array:"
   ]
  },
  {
   "cell_type": "code",
   "execution_count": 3,
   "id": "a4d0d2dc",
   "metadata": {},
   "outputs": [],
   "source": [
    "a = ak.from_iter([[1, 2, 3], [4, 5], [6]] * 5)"
   ]
  },
  {
   "cell_type": "code",
   "execution_count": 4,
   "id": "aca61be9",
   "metadata": {
    "scrolled": false
   },
   "outputs": [
    {
     "data": {
      "text/plain": [
       "<Array [[1, 2, 3], [4, 5], [6], ..., [4, 5], [6]] type='15 * var * int64'>"
      ]
     },
     "execution_count": 4,
     "metadata": {},
     "output_type": "execute_result"
    }
   ],
   "source": [
    "a"
   ]
  },
  {
   "cell_type": "markdown",
   "id": "021d3236",
   "metadata": {},
   "source": [
    "We get a series representation of the awkward array by using awkward-pandas `form_awkward` function:"
   ]
  },
  {
   "cell_type": "code",
   "execution_count": 5,
   "id": "163bec0e",
   "metadata": {},
   "outputs": [],
   "source": [
    "s = akpd.from_awkward(a, name=\"a\")"
   ]
  },
  {
   "cell_type": "code",
   "execution_count": 6,
   "id": "2efdc549",
   "metadata": {},
   "outputs": [
    {
     "data": {
      "text/plain": [
       "0     [1, 2, 3]\n",
       "1        [4, 5]\n",
       "2           [6]\n",
       "3     [1, 2, 3]\n",
       "4        [4, 5]\n",
       "5           [6]\n",
       "6     [1, 2, 3]\n",
       "7        [4, 5]\n",
       "8           [6]\n",
       "9     [1, 2, 3]\n",
       "10       [4, 5]\n",
       "11          [6]\n",
       "12    [1, 2, 3]\n",
       "13       [4, 5]\n",
       "14          [6]\n",
       "Name: a, dtype: awkward"
      ]
     },
     "execution_count": 6,
     "metadata": {},
     "output_type": "execute_result"
    }
   ],
   "source": [
    "s"
   ]
  },
  {
   "cell_type": "markdown",
   "id": "9a065083",
   "metadata": {},
   "source": [
    "We can put the series in a DataFrame with another built-in pandas type, e.g. a column of integers:"
   ]
  },
  {
   "cell_type": "code",
   "execution_count": 7,
   "id": "8ec01cae",
   "metadata": {},
   "outputs": [],
   "source": [
    "df = pd.DataFrame({\"integers\": np.arange(42, 42 + len(s)), \"awkwardstuff\": s})"
   ]
  },
  {
   "cell_type": "code",
   "execution_count": 8,
   "id": "2733ace7",
   "metadata": {
    "scrolled": true
   },
   "outputs": [
    {
     "data": {
      "text/html": [
       "<div>\n",
       "<style scoped>\n",
       "    .dataframe tbody tr th:only-of-type {\n",
       "        vertical-align: middle;\n",
       "    }\n",
       "\n",
       "    .dataframe tbody tr th {\n",
       "        vertical-align: top;\n",
       "    }\n",
       "\n",
       "    .dataframe thead th {\n",
       "        text-align: right;\n",
       "    }\n",
       "</style>\n",
       "<table border=\"1\" class=\"dataframe\">\n",
       "  <thead>\n",
       "    <tr style=\"text-align: right;\">\n",
       "      <th></th>\n",
       "      <th>integers</th>\n",
       "      <th>awkwardstuff</th>\n",
       "    </tr>\n",
       "  </thead>\n",
       "  <tbody>\n",
       "    <tr>\n",
       "      <th>0</th>\n",
       "      <td>42</td>\n",
       "      <td>[1, 2, 3]</td>\n",
       "    </tr>\n",
       "    <tr>\n",
       "      <th>1</th>\n",
       "      <td>43</td>\n",
       "      <td>[4, 5]</td>\n",
       "    </tr>\n",
       "    <tr>\n",
       "      <th>2</th>\n",
       "      <td>44</td>\n",
       "      <td>[6]</td>\n",
       "    </tr>\n",
       "    <tr>\n",
       "      <th>3</th>\n",
       "      <td>45</td>\n",
       "      <td>[1, 2, 3]</td>\n",
       "    </tr>\n",
       "    <tr>\n",
       "      <th>4</th>\n",
       "      <td>46</td>\n",
       "      <td>[4, 5]</td>\n",
       "    </tr>\n",
       "    <tr>\n",
       "      <th>5</th>\n",
       "      <td>47</td>\n",
       "      <td>[6]</td>\n",
       "    </tr>\n",
       "    <tr>\n",
       "      <th>6</th>\n",
       "      <td>48</td>\n",
       "      <td>[1, 2, 3]</td>\n",
       "    </tr>\n",
       "    <tr>\n",
       "      <th>7</th>\n",
       "      <td>49</td>\n",
       "      <td>[4, 5]</td>\n",
       "    </tr>\n",
       "    <tr>\n",
       "      <th>8</th>\n",
       "      <td>50</td>\n",
       "      <td>[6]</td>\n",
       "    </tr>\n",
       "    <tr>\n",
       "      <th>9</th>\n",
       "      <td>51</td>\n",
       "      <td>[1, 2, 3]</td>\n",
       "    </tr>\n",
       "    <tr>\n",
       "      <th>10</th>\n",
       "      <td>52</td>\n",
       "      <td>[4, 5]</td>\n",
       "    </tr>\n",
       "    <tr>\n",
       "      <th>11</th>\n",
       "      <td>53</td>\n",
       "      <td>[6]</td>\n",
       "    </tr>\n",
       "    <tr>\n",
       "      <th>12</th>\n",
       "      <td>54</td>\n",
       "      <td>[1, 2, 3]</td>\n",
       "    </tr>\n",
       "    <tr>\n",
       "      <th>13</th>\n",
       "      <td>55</td>\n",
       "      <td>[4, 5]</td>\n",
       "    </tr>\n",
       "    <tr>\n",
       "      <th>14</th>\n",
       "      <td>56</td>\n",
       "      <td>[6]</td>\n",
       "    </tr>\n",
       "  </tbody>\n",
       "</table>\n",
       "</div>"
      ],
      "text/plain": [
       "    integers awkwardstuff\n",
       "0         42    [1, 2, 3]\n",
       "1         43       [4, 5]\n",
       "2         44          [6]\n",
       "3         45    [1, 2, 3]\n",
       "4         46       [4, 5]\n",
       "5         47          [6]\n",
       "6         48    [1, 2, 3]\n",
       "7         49       [4, 5]\n",
       "8         50          [6]\n",
       "9         51    [1, 2, 3]\n",
       "10        52       [4, 5]\n",
       "11        53          [6]\n",
       "12        54    [1, 2, 3]\n",
       "13        55       [4, 5]\n",
       "14        56          [6]"
      ]
     },
     "execution_count": 8,
     "metadata": {},
     "output_type": "execute_result"
    }
   ],
   "source": [
    "df"
   ]
  },
  {
   "cell_type": "markdown",
   "id": "eecd2bc1",
   "metadata": {},
   "source": [
    "With the DataFrame we can start doing usual pandas operations. Here we query the DataFrame based on the column of integers; selecting rows where the integer is even:"
   ]
  },
  {
   "cell_type": "code",
   "execution_count": 9,
   "id": "97ae1c50",
   "metadata": {},
   "outputs": [
    {
     "data": {
      "text/html": [
       "<div>\n",
       "<style scoped>\n",
       "    .dataframe tbody tr th:only-of-type {\n",
       "        vertical-align: middle;\n",
       "    }\n",
       "\n",
       "    .dataframe tbody tr th {\n",
       "        vertical-align: top;\n",
       "    }\n",
       "\n",
       "    .dataframe thead th {\n",
       "        text-align: right;\n",
       "    }\n",
       "</style>\n",
       "<table border=\"1\" class=\"dataframe\">\n",
       "  <thead>\n",
       "    <tr style=\"text-align: right;\">\n",
       "      <th></th>\n",
       "      <th>integers</th>\n",
       "      <th>awkwardstuff</th>\n",
       "    </tr>\n",
       "  </thead>\n",
       "  <tbody>\n",
       "    <tr>\n",
       "      <th>0</th>\n",
       "      <td>42</td>\n",
       "      <td>[1, 2, 3]</td>\n",
       "    </tr>\n",
       "    <tr>\n",
       "      <th>2</th>\n",
       "      <td>44</td>\n",
       "      <td>[6]</td>\n",
       "    </tr>\n",
       "    <tr>\n",
       "      <th>4</th>\n",
       "      <td>46</td>\n",
       "      <td>[4, 5]</td>\n",
       "    </tr>\n",
       "    <tr>\n",
       "      <th>6</th>\n",
       "      <td>48</td>\n",
       "      <td>[1, 2, 3]</td>\n",
       "    </tr>\n",
       "    <tr>\n",
       "      <th>8</th>\n",
       "      <td>50</td>\n",
       "      <td>[6]</td>\n",
       "    </tr>\n",
       "    <tr>\n",
       "      <th>10</th>\n",
       "      <td>52</td>\n",
       "      <td>[4, 5]</td>\n",
       "    </tr>\n",
       "    <tr>\n",
       "      <th>12</th>\n",
       "      <td>54</td>\n",
       "      <td>[1, 2, 3]</td>\n",
       "    </tr>\n",
       "    <tr>\n",
       "      <th>14</th>\n",
       "      <td>56</td>\n",
       "      <td>[6]</td>\n",
       "    </tr>\n",
       "  </tbody>\n",
       "</table>\n",
       "</div>"
      ],
      "text/plain": [
       "    integers awkwardstuff\n",
       "0         42    [1, 2, 3]\n",
       "2         44          [6]\n",
       "4         46       [4, 5]\n",
       "6         48    [1, 2, 3]\n",
       "8         50          [6]\n",
       "10        52       [4, 5]\n",
       "12        54    [1, 2, 3]\n",
       "14        56          [6]"
      ]
     },
     "execution_count": 9,
     "metadata": {},
     "output_type": "execute_result"
    }
   ],
   "source": [
    "df.query(\"integers%2 == 0\")"
   ]
  },
  {
   "cell_type": "markdown",
   "id": "94184aa3",
   "metadata": {},
   "source": [
    "We can use DataFrame and Series methods:"
   ]
  },
  {
   "cell_type": "code",
   "execution_count": 10,
   "id": "9846e9ce",
   "metadata": {},
   "outputs": [
    {
     "data": {
      "text/plain": [
       "integers        56\n",
       "awkwardstuff     6\n",
       "dtype: int64"
      ]
     },
     "execution_count": 10,
     "metadata": {},
     "output_type": "execute_result"
    }
   ],
   "source": [
    "df.max()"
   ]
  },
  {
   "cell_type": "code",
   "execution_count": 11,
   "id": "972e79c8",
   "metadata": {},
   "outputs": [
    {
     "data": {
      "text/plain": [
       "integers        49.0\n",
       "awkwardstuff     3.5\n",
       "dtype: float64"
      ]
     },
     "execution_count": 11,
     "metadata": {},
     "output_type": "execute_result"
    }
   ],
   "source": [
    "df.mean()"
   ]
  },
  {
   "cell_type": "code",
   "execution_count": 12,
   "id": "1f640f5a",
   "metadata": {},
   "outputs": [
    {
     "data": {
      "text/plain": [
       "1"
      ]
     },
     "execution_count": 12,
     "metadata": {},
     "output_type": "execute_result"
    }
   ],
   "source": [
    "df.awkwardstuff.min()"
   ]
  },
  {
   "cell_type": "markdown",
   "id": "c426ee60",
   "metadata": {},
   "source": [
    "To use functions from the `awkward` library, or to access the underlying awkward array directly, we use the `ak` accessor:"
   ]
  },
  {
   "cell_type": "code",
   "execution_count": 13,
   "id": "a6c908a2",
   "metadata": {},
   "outputs": [
    {
     "data": {
      "text/plain": [
       "<awkward_pandas.accessor.AwkwardAccessor at 0x153312d70>"
      ]
     },
     "execution_count": 13,
     "metadata": {},
     "output_type": "execute_result"
    }
   ],
   "source": [
    "df.awkwardstuff.ak"
   ]
  },
  {
   "cell_type": "markdown",
   "id": "e50c517e",
   "metadata": {},
   "source": [
    "Here we'll use the accessor to show two different paths that provide the same numerical result represented with different objects:"
   ]
  },
  {
   "cell_type": "code",
   "execution_count": 14,
   "id": "2d8a926a",
   "metadata": {},
   "outputs": [
    {
     "data": {
      "text/plain": [
       "0     1\n",
       "1     4\n",
       "2     6\n",
       "3     1\n",
       "4     4\n",
       "5     6\n",
       "6     1\n",
       "7     4\n",
       "8     6\n",
       "9     1\n",
       "10    4\n",
       "11    6\n",
       "12    1\n",
       "13    4\n",
       "14    6\n",
       "dtype: awkward"
      ]
     },
     "execution_count": 14,
     "metadata": {},
     "output_type": "execute_result"
    }
   ],
   "source": [
    "df.awkwardstuff.ak.min(axis=1)"
   ]
  },
  {
   "cell_type": "code",
   "execution_count": 15,
   "id": "d91a8c9e",
   "metadata": {},
   "outputs": [
    {
     "data": {
      "text/plain": [
       "<Array [1, 4, 6, 1, 4, 6, 1, 4, 6, 1, 4, 6, 1, 4, 6] type='15 * ?int64'>"
      ]
     },
     "execution_count": 15,
     "metadata": {},
     "output_type": "execute_result"
    }
   ],
   "source": [
    "ak.min(df.awkwardstuff.ak.array, axis=1)"
   ]
  },
  {
   "cell_type": "markdown",
   "id": "028a10e0",
   "metadata": {},
   "source": [
    "In both cases we are calling the `ak.min` function with the argument `axis=1`. The difference:\n",
    "1. In the first call we are using the accessor on the `pd.Series` and therefore we return a `pd.Series`.\n",
    "2. In the second call we are accessing the underlying array directly, still via the `ak` accessor, but we then call the `ak.min` function directly, so an awkward `Array` object is returned.\n",
    "\n",
    "The second path should be rare when reaching for awkward-pandas. The purpose of awkward-pandas is to plug awkward-arrays into Pandas like workflows. If you find yourself reaching for the second type of call, think about if you actually need Pandas in hte first place! You may be find just using awkward-array. Of course, there will be occasional reasons to need to reach down to the underlying array, which is why we provide that interface."
   ]
  },
  {
   "cell_type": "code",
   "execution_count": null,
   "id": "bb62e643",
   "metadata": {},
   "outputs": [],
   "source": []
  }
 ],
 "metadata": {
  "kernelspec": {
   "display_name": "Python 3 (ipykernel)",
   "language": "python",
   "name": "python3"
  },
  "language_info": {
   "codemirror_mode": {
    "name": "ipython",
    "version": 3
   },
   "file_extension": ".py",
   "mimetype": "text/x-python",
   "name": "python",
   "nbconvert_exporter": "python",
   "pygments_lexer": "ipython3",
   "version": "3.10.8"
  }
 },
 "nbformat": 4,
 "nbformat_minor": 5
}
